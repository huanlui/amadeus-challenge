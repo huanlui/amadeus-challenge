{
 "cells": [
  {
   "cell_type": "markdown",
   "metadata": {},
   "source": [
    "# Match searches with bookings"
   ]
  },
  {
   "cell_type": "markdown",
   "metadata": {},
   "source": [
    "- For every search in the searches file, find out if the search ended up in a booking or not(using the info in the bookings file). For instance, search and booking origin and destination should match. \n",
    "- For the bookings file, origin and destinatio are the columns dep_port and arr_port, respectively.\n",
    "- Generate a CSV file with the search data, and an additional field, containing 1 if the search ended up in a booking and 0 otherwise. "
   ]
  },
  {
   "cell_type": "markdown",
   "metadata": {},
   "source": [
    "bookings --> dep_port, arr_port\n",
    "searches --> origin, destination\n",
    "\n",
    "No tengo columnas que relacionen una reserrva con una búsqueda. Son datos aislados. Además, se quiere saber que a lo mejor la búsqueda fue en Kayak, pero después ya lo compraste desde Iberia. Como lo ligo:?\n",
    "- Por destino y origen.\n",
    "- Por número de personas (aunque a veces la gente busca para 1, no busca para grupos)-\n",
    "- Para familias, siempre suele funcionar (porque precio de niño es menor)\n",
    "Puedo complicar el modelo todo lo que quiera, o todo lo que me pidan.\n",
    "\n",
    "Para el ejercicio, tendremo sólo el criterio de que coincidadn en fecha\n",
    "\n",
    "bookings --> dep_port, arr_port, cre_date\n",
    "searches --> origin, destination, search_date\n",
    "0 -> drop nan, add index\n",
    "1-> make sure dep_port & arr_port dont have spaces\n",
    "2 -> make suce cre_date and search_date have the same format\n",
    "3 -> add 'Booked' column with 1 in bookings\n",
    "4 -> group by dep_port, arr_port, cre_date\n",
    "5 -> left join searches + Bookeds\n",
    "6 -> Change Nan to 0 and if >0 to 1\n",
    "7 -> Add column in the file.\n",
    "\n",
    "Ojo, que si hemos borrado duplicados, no coincidirán los números de línea porque hemos borrado duplicados, quitado nans. Lo solución es conservar el index que Pandas nos proporciona en las datafranes. De ahí que en 0 se añada ese index"
   ]
  },
  {
   "cell_type": "markdown",
   "metadata": {},
   "source": [
    "Como curiosidad, el Data Center de Amadeus tiene \n",
    "-Dos líneas de luz de compañías independientes por seguridad.\n",
    "- Motores diesel por si aun así se va, .\n",
    "etc\n",
    "\n",
    "<img src=\"http://www.blueboxcooling.com/en/thumb/dettaglionews/data_centre2.jpg/>"
   ]
  },
  {
   "cell_type": "markdown",
   "metadata": {},
   "source": [
    "##  Sobre los duplicados"
   ]
  },
  {
   "cell_type": "markdown",
   "metadata": {},
   "source": [
    "Es habitual encontrarse datos de la mimsma búsqueda varias veces repetidas, por ejemplo que un robot ha hecho veinte veces la misma búsqueda dentro de una simple búsqueda de un usuario. \n",
    "\n",
    "Hay que preguntar a la empresa qué hacer con los duplicados. En este caso, las líneas son completamente iguales, lo ha hecho Israel. \n",
    "\n",
    "Pandas tiene una función drop duplicates que borra ese caso de una línea con todo repetido. \n",
    "\n",
    "El problema es que vamos a tener chunks, por lo que si no encontramos duplicados dentro de ese chunk no quiere decir que no lo haya, porque esté en otro chunk"
   ]
  },
  {
   "cell_type": "markdown",
   "metadata": {},
   "source": [
    "# 1) Familiarizarse con datos"
   ]
  },
  {
   "cell_type": "markdown",
   "metadata": {},
   "source": [
    "Ya hecho en anteriores ejercicios..."
   ]
  },
  {
   "cell_type": "markdown",
   "metadata": {},
   "source": [
    "# 2) Preparar datos"
   ]
  },
  {
   "cell_type": "code",
   "execution_count": 11,
   "metadata": {},
   "outputs": [],
   "source": [
    "import pandas as pd"
   ]
  },
  {
   "cell_type": "code",
   "execution_count": 5,
   "metadata": {},
   "outputs": [
    {
     "name": "stdout",
     "output_type": "stream",
     "text": [
      "/home/dsc/Data/challenge\n"
     ]
    }
   ],
   "source": [
    "cd ~/Data/challenge/"
   ]
  },
  {
   "cell_type": "code",
   "execution_count": 13,
   "metadata": {},
   "outputs": [],
   "source": [
    "bookings = pd.read_csv('bookings.csv.bz2',sep=\"^\", nrows=1200000)"
   ]
  },
  {
   "cell_type": "code",
   "execution_count": 14,
   "metadata": {},
   "outputs": [
    {
     "data": {
      "text/plain": [
       "(1200000, 38)"
      ]
     },
     "execution_count": 14,
     "metadata": {},
     "output_type": "execute_result"
    }
   ],
   "source": [
    "bookings.shape"
   ]
  },
  {
   "cell_type": "code",
   "execution_count": 15,
   "metadata": {},
   "outputs": [
    {
     "data": {
      "text/plain": [
       "(1000000, 38)"
      ]
     },
     "execution_count": 15,
     "metadata": {},
     "output_type": "execute_result"
    }
   ],
   "source": [
    "bookings.drop_duplicates().shape"
   ]
  },
  {
   "cell_type": "markdown",
   "metadata": {},
   "source": [
    "####  Importante: esto siguiente se tendría que haber hecho con low_memory = False. Lo hicimos sin eso por error, pero como tarda en hacerse lo dejamos así. "
   ]
  },
  {
   "cell_type": "code",
   "execution_count": 19,
   "metadata": {},
   "outputs": [
    {
     "name": "stdout",
     "output_type": "stream",
     "text": [
      "0, Length: 300000\n",
      "1, Length: 600000\n",
      "2, Length: 900000\n",
      "3, Length: 1000000\n",
      "4, Length: 1000000\n",
      "5, Length: 1000000\n",
      "6, Length: 1000000\n",
      "7, Length: 1000000\n",
      "8, Length: 1000000\n",
      "9, Length: 1000000\n",
      "10, Length: 1000000\n",
      "11, Length: 1000000\n",
      "12, Length: 1000000\n",
      "13, Length: 1000000\n",
      "14, Length: 1000000\n",
      "15, Length: 1000000\n"
     ]
    },
    {
     "name": "stderr",
     "output_type": "stream",
     "text": [
      "/home/dsc/anaconda3/lib/python3.6/site-packages/IPython/core/interactiveshell.py:2728: DtypeWarning: Columns (7,8,27) have mixed types. Specify dtype option on import or set low_memory=False.\n",
      "  interactivity=interactivity, compiler=compiler, result=result)\n"
     ]
    },
    {
     "name": "stdout",
     "output_type": "stream",
     "text": [
      "16, Length: 1016377\n",
      "17, Length: 1016377\n",
      "18, Length: 1016377\n",
      "19, Length: 1016377\n",
      "20, Length: 1016377\n",
      "21, Length: 1016377\n",
      "22, Length: 1016377\n",
      "23, Length: 1016377\n",
      "24, Length: 1016377\n",
      "25, Length: 1016377\n",
      "26, Length: 1016377\n",
      "27, Length: 1016377\n",
      "28, Length: 1016377\n",
      "29, Length: 1016377\n",
      "30, Length: 1016377\n",
      "31, Length: 1016377\n",
      "32, Length: 1016377\n",
      "33, Length: 1016377\n"
     ]
    }
   ],
   "source": [
    "bookings = pd.read_csv('bookings.csv.bz2', sep='^', chunksize=300000)\n",
    "\n",
    "all_chunks = pd.DataFrame()\n",
    "for i, chunk in enumerate(bookings):\n",
    "    all_chunks = all_chunks.append(chunk)aa\n",
    "    all_chunks = all_chunks.drop_duplicates()\n",
    "    print(f\"{i}, Length: {len(all_chunks)}\")"
   ]
  },
  {
   "cell_type": "code",
   "execution_count": 20,
   "metadata": {},
   "outputs": [],
   "source": [
    "all_chunks.to_csv('bookings_no_dup.csv', sep='^', index=False )"
   ]
  },
  {
   "cell_type": "code",
   "execution_count": 21,
   "metadata": {},
   "outputs": [
    {
     "name": "stdout",
     "output_type": "stream",
     "text": [
      "total 1073864\r\n",
      "drwxr-x--- 2 dsc dsc      4096 ene 26 12:02 .\r\n",
      "-rw-r--r-- 1 dsc dsc  56437955 ene 26 12:01 bookings_no_dup.csv.bz2\r\n",
      "-rwxrwxrwx 1 dsc dsc    244720 ene 25 17:20 searches_sample.csv.bz2\r\n",
      "-rwxrwxrwx 1 dsc dsc   4232732 ene 25 17:19 bookings_sample.csv\r\n",
      "-rwxrwxrwx 1 dsc dsc    535893 ene 25 17:19 bookings_sample.csv.bz2\r\n",
      "-rwxr-x--- 1 dsc dsc 483188920 mar 13  2018 searches.csv.bz2\r\n",
      "-rwxr-x--- 1 dsc dsc 554970628 mar 13  2018 bookings.csv.bz2\r\n",
      "drwxr-x--- 7 dsc dsc      4096 mar 13  2018 ..\r\n"
     ]
    }
   ],
   "source": [
    "! bzip2 bookings_no_dup.csv\n",
    "! ls -alt"
   ]
  },
  {
   "cell_type": "code",
   "execution_count": 22,
   "metadata": {},
   "outputs": [
    {
     "name": "stderr",
     "output_type": "stream",
     "text": [
      "<string>:2: DtypeWarning: Columns (44) have mixed types. Specify dtype option on import or set low_memory=False.\n"
     ]
    },
    {
     "name": "stdout",
     "output_type": "stream",
     "text": [
      "0, Length: 299999\n",
      "1, Length: 365535\n",
      "2, Length: 372071\n",
      "3, Length: 375383\n"
     ]
    },
    {
     "name": "stderr",
     "output_type": "stream",
     "text": [
      "<string>:2: DtypeWarning: Columns (40,41,42,44) have mixed types. Specify dtype option on import or set low_memory=False.\n"
     ]
    },
    {
     "name": "stdout",
     "output_type": "stream",
     "text": [
      "4, Length: 393537\n",
      "5, Length: 403277\n",
      "6, Length: 403277\n",
      "7, Length: 403277\n",
      "8, Length: 404843\n",
      "9, Length: 404843\n",
      "10, Length: 409813\n",
      "11, Length: 414701\n",
      "12, Length: 414701\n",
      "13, Length: 416267\n",
      "14, Length: 416267\n",
      "15, Length: 416267\n",
      "16, Length: 417823\n",
      "17, Length: 417823\n",
      "18, Length: 417895\n",
      "19, Length: 417895\n",
      "20, Length: 417895\n",
      "21, Length: 417895\n",
      "22, Length: 417895\n",
      "23, Length: 417967\n",
      "24, Length: 417967\n",
      "25, Length: 417967\n",
      "26, Length: 417967\n",
      "27, Length: 417967\n",
      "28, Length: 417967\n",
      "29, Length: 417967\n",
      "30, Length: 417967\n",
      "31, Length: 418059\n",
      "32, Length: 418059\n",
      "33, Length: 418059\n",
      "34, Length: 419533\n",
      "35, Length: 419533\n",
      "36, Length: 419533\n",
      "37, Length: 419533\n",
      "38, Length: 419533\n",
      "39, Length: 419743\n",
      "40, Length: 419743\n",
      "41, Length: 419743\n",
      "42, Length: 419743\n",
      "43, Length: 419743\n",
      "44, Length: 419743\n",
      "45, Length: 419743\n",
      "46, Length: 419743\n",
      "47, Length: 419743\n",
      "48, Length: 419743\n",
      "49, Length: 419743\n",
      "50, Length: 419743\n",
      "51, Length: 419743\n",
      "52, Length: 421309\n",
      "53, Length: 421309\n",
      "54, Length: 421309\n",
      "55, Length: 421309\n",
      "56, Length: 421309\n",
      "57, Length: 421309\n",
      "58, Length: 421309\n",
      "59, Length: 421309\n",
      "60, Length: 421309\n",
      "61, Length: 421309\n",
      "62, Length: 421309\n",
      "63, Length: 421309\n",
      "64, Length: 421309\n",
      "65, Length: 421391\n",
      "66, Length: 421391\n",
      "67, Length: 421392\n",
      "CPU times: user 24min 38s, sys: 1min 19s, total: 25min 58s\n",
      "Wall time: 26min 2s\n"
     ]
    }
   ],
   "source": [
    "%%time\n",
    "searches = pd.read_csv('searches.csv.bz2', sep='^', chunksize=300000)\n",
    "\n",
    "all_chunks = pd.DataFrame()\n",
    "for i, chunk in enumerate(searches):\n",
    "    all_chunks = all_chunks.append(chunk)\n",
    "    all_chunks = all_chunks.drop_duplicates()\n",
    "    print(f\"{i}, Length: {len(all_chunks)}\")"
   ]
  },
  {
   "cell_type": "code",
   "execution_count": 23,
   "metadata": {},
   "outputs": [],
   "source": [
    "all_chunks.to_csv('searches_no_dup.csv', sep='^', index=False )"
   ]
  },
  {
   "cell_type": "code",
   "execution_count": 24,
   "metadata": {},
   "outputs": [
    {
     "name": "stdout",
     "output_type": "stream",
     "text": [
      "total 1083644\r\n",
      "drwxr-x--- 2 dsc dsc      4096 ene 26 12:31 .\r\n",
      "-rw-r--r-- 1 dsc dsc  10013467 ene 26 12:30 searches_no_dup.csv.bz2\r\n",
      "-rw-r--r-- 1 dsc dsc  56437955 ene 26 12:01 bookings_no_dup.csv.bz2\r\n",
      "-rwxrwxrwx 1 dsc dsc    244720 ene 25 17:20 searches_sample.csv.bz2\r\n",
      "-rwxrwxrwx 1 dsc dsc   4232732 ene 25 17:19 bookings_sample.csv\r\n",
      "-rwxrwxrwx 1 dsc dsc    535893 ene 25 17:19 bookings_sample.csv.bz2\r\n",
      "-rwxr-x--- 1 dsc dsc 483188920 mar 13  2018 searches.csv.bz2\r\n",
      "-rwxr-x--- 1 dsc dsc 554970628 mar 13  2018 bookings.csv.bz2\r\n",
      "drwxr-x--- 7 dsc dsc      4096 mar 13  2018 ..\r\n"
     ]
    }
   ],
   "source": [
    "! bzip2 searches_no_dup.csv\n",
    "! ls -alt"
   ]
  },
  {
   "cell_type": "markdown",
   "metadata": {},
   "source": [
    "##  Trabajo con esos ficheros"
   ]
  },
  {
   "cell_type": "code",
   "execution_count": 6,
   "metadata": {},
   "outputs": [],
   "source": [
    "import pandas as pd"
   ]
  },
  {
   "cell_type": "code",
   "execution_count": 7,
   "metadata": {},
   "outputs": [],
   "source": [
    "bookings = pd.read_csv('bookings_no_dup.csv.bz2', sep='^', nrows= 1)"
   ]
  },
  {
   "cell_type": "code",
   "execution_count": 8,
   "metadata": {},
   "outputs": [
    {
     "data": {
      "text/plain": [
       "Index(['act_date           ', 'source', 'pos_ctry', 'pos_iata', 'pos_oid  ',\n",
       "       'rloc          ', 'cre_date           ', 'duration', 'distance',\n",
       "       'dep_port', 'dep_city', 'dep_ctry', 'arr_port', 'arr_city', 'arr_ctry',\n",
       "       'lst_port', 'lst_city', 'lst_ctry', 'brd_port', 'brd_city', 'brd_ctry',\n",
       "       'off_port', 'off_city', 'off_ctry', 'mkt_port', 'mkt_city', 'mkt_ctry',\n",
       "       'intl', 'route          ', 'carrier', 'bkg_class', 'cab_class',\n",
       "       'brd_time           ', 'off_time           ', 'pax', 'year', 'month',\n",
       "       'oid      '],\n",
       "      dtype='object')"
      ]
     },
     "execution_count": 8,
     "metadata": {},
     "output_type": "execute_result"
    }
   ],
   "source": [
    "bookings.columns"
   ]
  },
  {
   "cell_type": "code",
   "execution_count": 9,
   "metadata": {},
   "outputs": [],
   "source": [
    "bookings = pd.read_csv('bookings_no_dup.csv.bz2', sep='^', usecols=['dep_port', 'arr_port', 'cre_date           '])"
   ]
  },
  {
   "cell_type": "code",
   "execution_count": 10,
   "metadata": {},
   "outputs": [],
   "source": [
    "searches = pd.read_csv('searches_no_dup.csv.bz2', sep='^', usecols=['Destination', 'Origin', 'Date'])"
   ]
  },
  {
   "cell_type": "code",
   "execution_count": 11,
   "metadata": {},
   "outputs": [
    {
     "data": {
      "text/plain": [
       "((1016377, 3), (421392, 3))"
      ]
     },
     "execution_count": 11,
     "metadata": {},
     "output_type": "execute_result"
    }
   ],
   "source": [
    "bookings.shape, searches.shape"
   ]
  },
  {
   "cell_type": "code",
   "execution_count": 12,
   "metadata": {},
   "outputs": [
    {
     "data": {
      "text/html": [
       "<div>\n",
       "<style scoped>\n",
       "    .dataframe tbody tr th:only-of-type {\n",
       "        vertical-align: middle;\n",
       "    }\n",
       "\n",
       "    .dataframe tbody tr th {\n",
       "        vertical-align: top;\n",
       "    }\n",
       "\n",
       "    .dataframe thead th {\n",
       "        text-align: right;\n",
       "    }\n",
       "</style>\n",
       "<table border=\"1\" class=\"dataframe\">\n",
       "  <thead>\n",
       "    <tr style=\"text-align: right;\">\n",
       "      <th></th>\n",
       "      <th>cre_date</th>\n",
       "      <th>dep_port</th>\n",
       "      <th>arr_port</th>\n",
       "    </tr>\n",
       "  </thead>\n",
       "  <tbody>\n",
       "    <tr>\n",
       "      <th>986359</th>\n",
       "      <td>2013-11-04 00:00:00</td>\n",
       "      <td>CVG</td>\n",
       "      <td>ATL</td>\n",
       "    </tr>\n",
       "    <tr>\n",
       "      <th>348383</th>\n",
       "      <td>2013-03-06 00:00:00</td>\n",
       "      <td>PLZ</td>\n",
       "      <td>KUL</td>\n",
       "    </tr>\n",
       "    <tr>\n",
       "      <th>477780</th>\n",
       "      <td>2013-05-30 00:00:00</td>\n",
       "      <td>BAH</td>\n",
       "      <td>KTM</td>\n",
       "    </tr>\n",
       "    <tr>\n",
       "      <th>427200</th>\n",
       "      <td>2013-03-07 00:00:00</td>\n",
       "      <td>PDX</td>\n",
       "      <td>SJC</td>\n",
       "    </tr>\n",
       "    <tr>\n",
       "      <th>197295</th>\n",
       "      <td>2013-01-09 00:00:00</td>\n",
       "      <td>YQB</td>\n",
       "      <td>SAF</td>\n",
       "    </tr>\n",
       "  </tbody>\n",
       "</table>\n",
       "</div>"
      ],
      "text/plain": [
       "        cre_date             dep_port  arr_port\n",
       "986359  2013-11-04 00:00:00  CVG       ATL     \n",
       "348383  2013-03-06 00:00:00  PLZ       KUL     \n",
       "477780  2013-05-30 00:00:00  BAH       KTM     \n",
       "427200  2013-03-07 00:00:00  PDX       SJC     \n",
       "197295  2013-01-09 00:00:00  YQB       SAF     "
      ]
     },
     "execution_count": 12,
     "metadata": {},
     "output_type": "execute_result"
    }
   ],
   "source": [
    "bookings.sample(5)"
   ]
  },
  {
   "cell_type": "code",
   "execution_count": 13,
   "metadata": {},
   "outputs": [
    {
     "data": {
      "text/html": [
       "<div>\n",
       "<style scoped>\n",
       "    .dataframe tbody tr th:only-of-type {\n",
       "        vertical-align: middle;\n",
       "    }\n",
       "\n",
       "    .dataframe tbody tr th {\n",
       "        vertical-align: top;\n",
       "    }\n",
       "\n",
       "    .dataframe thead th {\n",
       "        text-align: right;\n",
       "    }\n",
       "</style>\n",
       "<table border=\"1\" class=\"dataframe\">\n",
       "  <thead>\n",
       "    <tr style=\"text-align: right;\">\n",
       "      <th></th>\n",
       "      <th>Date</th>\n",
       "      <th>Origin</th>\n",
       "      <th>Destination</th>\n",
       "    </tr>\n",
       "  </thead>\n",
       "  <tbody>\n",
       "    <tr>\n",
       "      <th>7747</th>\n",
       "      <td>2013-01-08</td>\n",
       "      <td>PMI</td>\n",
       "      <td>AGP</td>\n",
       "    </tr>\n",
       "    <tr>\n",
       "      <th>73427</th>\n",
       "      <td>2013-03-15</td>\n",
       "      <td>MRS</td>\n",
       "      <td>MSY</td>\n",
       "    </tr>\n",
       "    <tr>\n",
       "      <th>1465</th>\n",
       "      <td>2013-01-02</td>\n",
       "      <td>LHR</td>\n",
       "      <td>SYD</td>\n",
       "    </tr>\n",
       "    <tr>\n",
       "      <th>256295</th>\n",
       "      <td>2013-09-14</td>\n",
       "      <td>BOS</td>\n",
       "      <td>DUB</td>\n",
       "    </tr>\n",
       "    <tr>\n",
       "      <th>289792</th>\n",
       "      <td>2013-10-17</td>\n",
       "      <td>CPT</td>\n",
       "      <td>MXP</td>\n",
       "    </tr>\n",
       "  </tbody>\n",
       "</table>\n",
       "</div>"
      ],
      "text/plain": [
       "              Date Origin Destination\n",
       "7747    2013-01-08    PMI         AGP\n",
       "73427   2013-03-15    MRS         MSY\n",
       "1465    2013-01-02    LHR         SYD\n",
       "256295  2013-09-14    BOS         DUB\n",
       "289792  2013-10-17    CPT         MXP"
      ]
     },
     "execution_count": 13,
     "metadata": {},
     "output_type": "execute_result"
    }
   ],
   "source": [
    "searches.sample(5)"
   ]
  },
  {
   "cell_type": "markdown",
   "metadata": {},
   "source": [
    "####  0 -> drop nan, add index"
   ]
  },
  {
   "cell_type": "code",
   "execution_count": 14,
   "metadata": {},
   "outputs": [
    {
     "data": {
      "text/html": [
       "<div>\n",
       "<style scoped>\n",
       "    .dataframe tbody tr th:only-of-type {\n",
       "        vertical-align: middle;\n",
       "    }\n",
       "\n",
       "    .dataframe tbody tr th {\n",
       "        vertical-align: top;\n",
       "    }\n",
       "\n",
       "    .dataframe thead th {\n",
       "        text-align: right;\n",
       "    }\n",
       "</style>\n",
       "<table border=\"1\" class=\"dataframe\">\n",
       "  <thead>\n",
       "    <tr style=\"text-align: right;\">\n",
       "      <th></th>\n",
       "      <th>index</th>\n",
       "      <th>Date</th>\n",
       "      <th>Origin</th>\n",
       "      <th>Destination</th>\n",
       "    </tr>\n",
       "  </thead>\n",
       "  <tbody>\n",
       "    <tr>\n",
       "      <th>283243</th>\n",
       "      <td>283243</td>\n",
       "      <td>2013-10-11</td>\n",
       "      <td>HAM</td>\n",
       "      <td>URT</td>\n",
       "    </tr>\n",
       "    <tr>\n",
       "      <th>239462</th>\n",
       "      <td>239462</td>\n",
       "      <td>2013-08-28</td>\n",
       "      <td>HNL</td>\n",
       "      <td>ANC</td>\n",
       "    </tr>\n",
       "    <tr>\n",
       "      <th>300535</th>\n",
       "      <td>300535</td>\n",
       "      <td>2013-10-28</td>\n",
       "      <td>BAQ</td>\n",
       "      <td>VLC</td>\n",
       "    </tr>\n",
       "    <tr>\n",
       "      <th>274356</th>\n",
       "      <td>274356</td>\n",
       "      <td>2013-10-02</td>\n",
       "      <td>EDI</td>\n",
       "      <td>BAH</td>\n",
       "    </tr>\n",
       "    <tr>\n",
       "      <th>137718</th>\n",
       "      <td>137718</td>\n",
       "      <td>2013-05-18</td>\n",
       "      <td>MOW</td>\n",
       "      <td>NYC</td>\n",
       "    </tr>\n",
       "  </tbody>\n",
       "</table>\n",
       "</div>"
      ],
      "text/plain": [
       "         index        Date Origin Destination\n",
       "283243  283243  2013-10-11    HAM         URT\n",
       "239462  239462  2013-08-28    HNL         ANC\n",
       "300535  300535  2013-10-28    BAQ         VLC\n",
       "274356  274356  2013-10-02    EDI         BAH\n",
       "137718  137718  2013-05-18    MOW         NYC"
      ]
     },
     "execution_count": 14,
     "metadata": {},
     "output_type": "execute_result"
    }
   ],
   "source": [
    "searches.reset_index(inplace=True)\n",
    "searches.sample(5)"
   ]
  },
  {
   "cell_type": "code",
   "execution_count": 15,
   "metadata": {},
   "outputs": [
    {
     "data": {
      "text/html": [
       "<div>\n",
       "<style scoped>\n",
       "    .dataframe tbody tr th:only-of-type {\n",
       "        vertical-align: middle;\n",
       "    }\n",
       "\n",
       "    .dataframe tbody tr th {\n",
       "        vertical-align: top;\n",
       "    }\n",
       "\n",
       "    .dataframe thead th {\n",
       "        text-align: right;\n",
       "    }\n",
       "</style>\n",
       "<table border=\"1\" class=\"dataframe\">\n",
       "  <thead>\n",
       "    <tr style=\"text-align: right;\">\n",
       "      <th></th>\n",
       "      <th>index</th>\n",
       "      <th>Date</th>\n",
       "      <th>Origin</th>\n",
       "      <th>Destination</th>\n",
       "    </tr>\n",
       "  </thead>\n",
       "  <tbody>\n",
       "    <tr>\n",
       "      <th>421387</th>\n",
       "      <td>421387</td>\n",
       "      <td>2013-08-17</td>\n",
       "      <td>GVA</td>\n",
       "      <td>LHR</td>\n",
       "    </tr>\n",
       "    <tr>\n",
       "      <th>421388</th>\n",
       "      <td>421388</td>\n",
       "      <td>2013-08-17</td>\n",
       "      <td>HKT</td>\n",
       "      <td>BKK</td>\n",
       "    </tr>\n",
       "    <tr>\n",
       "      <th>421389</th>\n",
       "      <td>421389</td>\n",
       "      <td>2013-08-17</td>\n",
       "      <td>PHL</td>\n",
       "      <td>TPA</td>\n",
       "    </tr>\n",
       "    <tr>\n",
       "      <th>421390</th>\n",
       "      <td>421390</td>\n",
       "      <td>2013-08-17</td>\n",
       "      <td>ORD</td>\n",
       "      <td>GDL</td>\n",
       "    </tr>\n",
       "    <tr>\n",
       "      <th>421391</th>\n",
       "      <td>421391</td>\n",
       "      <td>2013-10-13</td>\n",
       "      <td>VIE</td>\n",
       "      <td>HA</td>\n",
       "    </tr>\n",
       "  </tbody>\n",
       "</table>\n",
       "</div>"
      ],
      "text/plain": [
       "         index        Date Origin Destination\n",
       "421387  421387  2013-08-17    GVA         LHR\n",
       "421388  421388  2013-08-17    HKT         BKK\n",
       "421389  421389  2013-08-17    PHL         TPA\n",
       "421390  421390  2013-08-17    ORD         GDL\n",
       "421391  421391  2013-10-13    VIE          HA"
      ]
     },
     "execution_count": 15,
     "metadata": {},
     "output_type": "execute_result"
    }
   ],
   "source": [
    "searches.dropna(inplace=True)\n",
    "searches.tail()"
   ]
  },
  {
   "cell_type": "markdown",
   "metadata": {},
   "source": [
    "#### 1-> make sure dep_port & arr_port dont have spaces"
   ]
  },
  {
   "cell_type": "code",
   "execution_count": 16,
   "metadata": {},
   "outputs": [
    {
     "data": {
      "text/html": [
       "<div>\n",
       "<style scoped>\n",
       "    .dataframe tbody tr th:only-of-type {\n",
       "        vertical-align: middle;\n",
       "    }\n",
       "\n",
       "    .dataframe tbody tr th {\n",
       "        vertical-align: top;\n",
       "    }\n",
       "\n",
       "    .dataframe thead th {\n",
       "        text-align: right;\n",
       "    }\n",
       "</style>\n",
       "<table border=\"1\" class=\"dataframe\">\n",
       "  <thead>\n",
       "    <tr style=\"text-align: right;\">\n",
       "      <th></th>\n",
       "      <th>cre_date</th>\n",
       "      <th>dep_port</th>\n",
       "      <th>arr_port</th>\n",
       "    </tr>\n",
       "  </thead>\n",
       "  <tbody>\n",
       "    <tr>\n",
       "      <th>0</th>\n",
       "      <td>2013-02-22 00:00:00</td>\n",
       "      <td>ZRH</td>\n",
       "      <td>LHR</td>\n",
       "    </tr>\n",
       "    <tr>\n",
       "      <th>1</th>\n",
       "      <td>2013-03-26 00:00:00</td>\n",
       "      <td>SAL</td>\n",
       "      <td>CLT</td>\n",
       "    </tr>\n",
       "    <tr>\n",
       "      <th>2</th>\n",
       "      <td>2013-03-26 00:00:00</td>\n",
       "      <td>SAL</td>\n",
       "      <td>CLT</td>\n",
       "    </tr>\n",
       "    <tr>\n",
       "      <th>3</th>\n",
       "      <td>2013-03-26 00:00:00</td>\n",
       "      <td>AKL</td>\n",
       "      <td>SVO</td>\n",
       "    </tr>\n",
       "    <tr>\n",
       "      <th>4</th>\n",
       "      <td>2013-03-26 00:00:00</td>\n",
       "      <td>AKL</td>\n",
       "      <td>SVO</td>\n",
       "    </tr>\n",
       "  </tbody>\n",
       "</table>\n",
       "</div>"
      ],
      "text/plain": [
       "   cre_date             dep_port  arr_port\n",
       "0  2013-02-22 00:00:00  ZRH       LHR     \n",
       "1  2013-03-26 00:00:00  SAL       CLT     \n",
       "2  2013-03-26 00:00:00  SAL       CLT     \n",
       "3  2013-03-26 00:00:00  AKL       SVO     \n",
       "4  2013-03-26 00:00:00  AKL       SVO     "
      ]
     },
     "execution_count": 16,
     "metadata": {},
     "output_type": "execute_result"
    }
   ],
   "source": [
    "bookings.head()"
   ]
  },
  {
   "cell_type": "code",
   "execution_count": 17,
   "metadata": {},
   "outputs": [
    {
     "data": {
      "text/plain": [
       "Index(['cre_date', 'dep_port', 'arr_port'], dtype='object')"
      ]
     },
     "execution_count": 17,
     "metadata": {},
     "output_type": "execute_result"
    }
   ],
   "source": [
    "bookings.columns = bookings.columns.str.strip()\n",
    "bookings.columns"
   ]
  },
  {
   "cell_type": "code",
   "execution_count": 18,
   "metadata": {},
   "outputs": [],
   "source": [
    "bookings['dep_port'] = bookings['dep_port'].str.strip()"
   ]
  },
  {
   "cell_type": "code",
   "execution_count": 19,
   "metadata": {},
   "outputs": [],
   "source": [
    "bookings['arr_port'] = bookings['arr_port'].str.strip()"
   ]
  },
  {
   "cell_type": "code",
   "execution_count": 20,
   "metadata": {},
   "outputs": [
    {
     "data": {
      "text/plain": [
       "Index(['index', 'Date', 'Origin', 'Destination'], dtype='object')"
      ]
     },
     "execution_count": 20,
     "metadata": {},
     "output_type": "execute_result"
    }
   ],
   "source": [
    "searches.columns"
   ]
  },
  {
   "cell_type": "code",
   "execution_count": 21,
   "metadata": {},
   "outputs": [
    {
     "data": {
      "text/plain": [
       "Index(['index', 'Date', 'Origin', 'Destination'], dtype='object')"
      ]
     },
     "execution_count": 21,
     "metadata": {},
     "output_type": "execute_result"
    }
   ],
   "source": [
    "searches.columns = searches.columns.str.strip()\n",
    "searches.columns"
   ]
  },
  {
   "cell_type": "code",
   "execution_count": 22,
   "metadata": {},
   "outputs": [],
   "source": [
    "searches['Origin'] = searches['Origin'].str.strip()"
   ]
  },
  {
   "cell_type": "code",
   "execution_count": 23,
   "metadata": {},
   "outputs": [],
   "source": [
    "searches['Destination'] = searches['Destination'].str.strip()"
   ]
  },
  {
   "cell_type": "markdown",
   "metadata": {},
   "source": [
    "####  2 -> make suce cre_date and search_date have the same format"
   ]
  },
  {
   "cell_type": "code",
   "execution_count": 25,
   "metadata": {},
   "outputs": [],
   "source": [
    "def has_expected_format(input):\n",
    "    if(len(input) != 8): return False\n",
    "    if(input[2] != '-'): return False\n",
    "    if(input[5] != '-'): return False\n",
    "\n",
    "    return True"
   ]
  },
  {
   "cell_type": "markdown",
   "metadata": {},
   "source": [
    "Esto no es lo que había que hacer"
   ]
  },
  {
   "cell_type": "code",
   "execution_count": 27,
   "metadata": {},
   "outputs": [],
   "source": [
    "def remove_time(input):\n",
    "    return input[:10]"
   ]
  },
  {
   "cell_type": "code",
   "execution_count": 28,
   "metadata": {},
   "outputs": [
    {
     "data": {
      "text/plain": [
       "False"
      ]
     },
     "execution_count": 28,
     "metadata": {},
     "output_type": "execute_result"
    }
   ],
   "source": [
    "has_expected_format('8')\n"
   ]
  },
  {
   "cell_type": "code",
   "execution_count": 29,
   "metadata": {},
   "outputs": [
    {
     "data": {
      "text/plain": [
       "True"
      ]
     },
     "execution_count": 29,
     "metadata": {},
     "output_type": "execute_result"
    }
   ],
   "source": [
    "has_expected_format('08-11-07')"
   ]
  },
  {
   "cell_type": "code",
   "execution_count": 30,
   "metadata": {},
   "outputs": [
    {
     "data": {
      "text/plain": [
       "False"
      ]
     },
     "execution_count": 30,
     "metadata": {},
     "output_type": "execute_result"
    }
   ],
   "source": [
    "has_expected_format('8-11-07')"
   ]
  },
  {
   "cell_type": "code",
   "execution_count": 31,
   "metadata": {},
   "outputs": [
    {
     "data": {
      "text/plain": [
       "False"
      ]
     },
     "execution_count": 31,
     "metadata": {},
     "output_type": "execute_result"
    }
   ],
   "source": [
    "has_expected_format('08-1-07')"
   ]
  },
  {
   "cell_type": "code",
   "execution_count": 32,
   "metadata": {},
   "outputs": [],
   "source": [
    "bookings['cre_date'] = bookings['cre_date'].apply(remove_time)"
   ]
  },
  {
   "cell_type": "code",
   "execution_count": 33,
   "metadata": {},
   "outputs": [
    {
     "data": {
      "text/html": [
       "<div>\n",
       "<style scoped>\n",
       "    .dataframe tbody tr th:only-of-type {\n",
       "        vertical-align: middle;\n",
       "    }\n",
       "\n",
       "    .dataframe tbody tr th {\n",
       "        vertical-align: top;\n",
       "    }\n",
       "\n",
       "    .dataframe thead th {\n",
       "        text-align: right;\n",
       "    }\n",
       "</style>\n",
       "<table border=\"1\" class=\"dataframe\">\n",
       "  <thead>\n",
       "    <tr style=\"text-align: right;\">\n",
       "      <th></th>\n",
       "      <th>cre_date</th>\n",
       "      <th>dep_port</th>\n",
       "      <th>arr_port</th>\n",
       "    </tr>\n",
       "  </thead>\n",
       "  <tbody>\n",
       "    <tr>\n",
       "      <th>1016372</th>\n",
       "      <td>2013-03-28</td>\n",
       "      <td>EWR</td>\n",
       "      <td>SEA</td>\n",
       "    </tr>\n",
       "    <tr>\n",
       "      <th>1016373</th>\n",
       "      <td>2013-03-28</td>\n",
       "      <td>EWR</td>\n",
       "      <td>SEA</td>\n",
       "    </tr>\n",
       "    <tr>\n",
       "      <th>1016374</th>\n",
       "      <td>2013-03-07</td>\n",
       "      <td>EWR</td>\n",
       "      <td>MIA</td>\n",
       "    </tr>\n",
       "    <tr>\n",
       "      <th>1016375</th>\n",
       "      <td>2013-03-28</td>\n",
       "      <td>RDM</td>\n",
       "      <td>PHL</td>\n",
       "    </tr>\n",
       "    <tr>\n",
       "      <th>1016376</th>\n",
       "      <td>2013-03-28</td>\n",
       "      <td>RDM</td>\n",
       "      <td>PHL</td>\n",
       "    </tr>\n",
       "  </tbody>\n",
       "</table>\n",
       "</div>"
      ],
      "text/plain": [
       "           cre_date dep_port arr_port\n",
       "1016372  2013-03-28      EWR      SEA\n",
       "1016373  2013-03-28      EWR      SEA\n",
       "1016374  2013-03-07      EWR      MIA\n",
       "1016375  2013-03-28      RDM      PHL\n",
       "1016376  2013-03-28      RDM      PHL"
      ]
     },
     "execution_count": 33,
     "metadata": {},
     "output_type": "execute_result"
    }
   ],
   "source": [
    "bookings.tail()"
   ]
  },
  {
   "cell_type": "markdown",
   "metadata": {},
   "source": [
    "#### 3 -> add 'Booked' column with 1 in bookings"
   ]
  },
  {
   "cell_type": "code",
   "execution_count": 34,
   "metadata": {},
   "outputs": [],
   "source": [
    "bookings['Booked'] = 1"
   ]
  },
  {
   "cell_type": "code",
   "execution_count": 35,
   "metadata": {},
   "outputs": [
    {
     "data": {
      "text/html": [
       "<div>\n",
       "<style scoped>\n",
       "    .dataframe tbody tr th:only-of-type {\n",
       "        vertical-align: middle;\n",
       "    }\n",
       "\n",
       "    .dataframe tbody tr th {\n",
       "        vertical-align: top;\n",
       "    }\n",
       "\n",
       "    .dataframe thead th {\n",
       "        text-align: right;\n",
       "    }\n",
       "</style>\n",
       "<table border=\"1\" class=\"dataframe\">\n",
       "  <thead>\n",
       "    <tr style=\"text-align: right;\">\n",
       "      <th></th>\n",
       "      <th>cre_date</th>\n",
       "      <th>dep_port</th>\n",
       "      <th>arr_port</th>\n",
       "      <th>Booked</th>\n",
       "    </tr>\n",
       "  </thead>\n",
       "  <tbody>\n",
       "    <tr>\n",
       "      <th>1016372</th>\n",
       "      <td>2013-03-28</td>\n",
       "      <td>EWR</td>\n",
       "      <td>SEA</td>\n",
       "      <td>1</td>\n",
       "    </tr>\n",
       "    <tr>\n",
       "      <th>1016373</th>\n",
       "      <td>2013-03-28</td>\n",
       "      <td>EWR</td>\n",
       "      <td>SEA</td>\n",
       "      <td>1</td>\n",
       "    </tr>\n",
       "    <tr>\n",
       "      <th>1016374</th>\n",
       "      <td>2013-03-07</td>\n",
       "      <td>EWR</td>\n",
       "      <td>MIA</td>\n",
       "      <td>1</td>\n",
       "    </tr>\n",
       "    <tr>\n",
       "      <th>1016375</th>\n",
       "      <td>2013-03-28</td>\n",
       "      <td>RDM</td>\n",
       "      <td>PHL</td>\n",
       "      <td>1</td>\n",
       "    </tr>\n",
       "    <tr>\n",
       "      <th>1016376</th>\n",
       "      <td>2013-03-28</td>\n",
       "      <td>RDM</td>\n",
       "      <td>PHL</td>\n",
       "      <td>1</td>\n",
       "    </tr>\n",
       "  </tbody>\n",
       "</table>\n",
       "</div>"
      ],
      "text/plain": [
       "           cre_date dep_port arr_port  Booked\n",
       "1016372  2013-03-28      EWR      SEA       1\n",
       "1016373  2013-03-28      EWR      SEA       1\n",
       "1016374  2013-03-07      EWR      MIA       1\n",
       "1016375  2013-03-28      RDM      PHL       1\n",
       "1016376  2013-03-28      RDM      PHL       1"
      ]
     },
     "execution_count": 35,
     "metadata": {},
     "output_type": "execute_result"
    }
   ],
   "source": [
    "bookings.tail()"
   ]
  },
  {
   "cell_type": "markdown",
   "metadata": {},
   "source": [
    "#### 4 -> group by dep_port, arr_port, cre_date"
   ]
  },
  {
   "cell_type": "code",
   "execution_count": 36,
   "metadata": {},
   "outputs": [
    {
     "data": {
      "text/plain": [
       "<pandas.core.groupby.DataFrameGroupBy object at 0x7f155b2fc438>"
      ]
     },
     "execution_count": 36,
     "metadata": {},
     "output_type": "execute_result"
    }
   ],
   "source": [
    "group = bookings.groupby(['dep_port','arr_port', 'cre_date'])\n",
    "group"
   ]
  },
  {
   "cell_type": "markdown",
   "metadata": {},
   "source": [
    "Hacemos que nos cuente los booked"
   ]
  },
  {
   "cell_type": "code",
   "execution_count": 37,
   "metadata": {},
   "outputs": [
    {
     "data": {
      "text/html": [
       "<div>\n",
       "<style scoped>\n",
       "    .dataframe tbody tr th:only-of-type {\n",
       "        vertical-align: middle;\n",
       "    }\n",
       "\n",
       "    .dataframe tbody tr th {\n",
       "        vertical-align: top;\n",
       "    }\n",
       "\n",
       "    .dataframe thead th {\n",
       "        text-align: right;\n",
       "    }\n",
       "</style>\n",
       "<table border=\"1\" class=\"dataframe\">\n",
       "  <thead>\n",
       "    <tr style=\"text-align: right;\">\n",
       "      <th></th>\n",
       "      <th>dep_port</th>\n",
       "      <th>arr_port</th>\n",
       "      <th>cre_date</th>\n",
       "      <th>Booked</th>\n",
       "    </tr>\n",
       "  </thead>\n",
       "  <tbody>\n",
       "    <tr>\n",
       "      <th>0</th>\n",
       "      <td>AAB</td>\n",
       "      <td>ROV</td>\n",
       "      <td>2013-05-29</td>\n",
       "      <td>2</td>\n",
       "    </tr>\n",
       "    <tr>\n",
       "      <th>1</th>\n",
       "      <td>AAB</td>\n",
       "      <td>ROV</td>\n",
       "      <td>2013-08-24</td>\n",
       "      <td>2</td>\n",
       "    </tr>\n",
       "    <tr>\n",
       "      <th>2</th>\n",
       "      <td>AAE</td>\n",
       "      <td>ALG</td>\n",
       "      <td>2013-01-07</td>\n",
       "      <td>1</td>\n",
       "    </tr>\n",
       "    <tr>\n",
       "      <th>3</th>\n",
       "      <td>AAE</td>\n",
       "      <td>ALG</td>\n",
       "      <td>2013-01-08</td>\n",
       "      <td>4</td>\n",
       "    </tr>\n",
       "    <tr>\n",
       "      <th>4</th>\n",
       "      <td>AAE</td>\n",
       "      <td>ALG</td>\n",
       "      <td>2013-01-09</td>\n",
       "      <td>2</td>\n",
       "    </tr>\n",
       "    <tr>\n",
       "      <th>5</th>\n",
       "      <td>AAE</td>\n",
       "      <td>ALG</td>\n",
       "      <td>2013-01-29</td>\n",
       "      <td>1</td>\n",
       "    </tr>\n",
       "    <tr>\n",
       "      <th>6</th>\n",
       "      <td>AAE</td>\n",
       "      <td>ALG</td>\n",
       "      <td>2013-02-18</td>\n",
       "      <td>2</td>\n",
       "    </tr>\n",
       "    <tr>\n",
       "      <th>7</th>\n",
       "      <td>AAE</td>\n",
       "      <td>ALG</td>\n",
       "      <td>2013-03-10</td>\n",
       "      <td>2</td>\n",
       "    </tr>\n",
       "    <tr>\n",
       "      <th>8</th>\n",
       "      <td>AAE</td>\n",
       "      <td>ALG</td>\n",
       "      <td>2013-03-17</td>\n",
       "      <td>6</td>\n",
       "    </tr>\n",
       "    <tr>\n",
       "      <th>9</th>\n",
       "      <td>AAE</td>\n",
       "      <td>ALG</td>\n",
       "      <td>2013-03-26</td>\n",
       "      <td>2</td>\n",
       "    </tr>\n",
       "    <tr>\n",
       "      <th>10</th>\n",
       "      <td>AAE</td>\n",
       "      <td>ALG</td>\n",
       "      <td>2013-03-28</td>\n",
       "      <td>4</td>\n",
       "    </tr>\n",
       "    <tr>\n",
       "      <th>11</th>\n",
       "      <td>AAE</td>\n",
       "      <td>ALG</td>\n",
       "      <td>2013-03-31</td>\n",
       "      <td>4</td>\n",
       "    </tr>\n",
       "    <tr>\n",
       "      <th>12</th>\n",
       "      <td>AAE</td>\n",
       "      <td>ALG</td>\n",
       "      <td>2013-04-24</td>\n",
       "      <td>2</td>\n",
       "    </tr>\n",
       "    <tr>\n",
       "      <th>13</th>\n",
       "      <td>AAE</td>\n",
       "      <td>ALG</td>\n",
       "      <td>2013-04-29</td>\n",
       "      <td>3</td>\n",
       "    </tr>\n",
       "    <tr>\n",
       "      <th>14</th>\n",
       "      <td>AAE</td>\n",
       "      <td>ALG</td>\n",
       "      <td>2013-06-13</td>\n",
       "      <td>4</td>\n",
       "    </tr>\n",
       "    <tr>\n",
       "      <th>15</th>\n",
       "      <td>AAE</td>\n",
       "      <td>ALG</td>\n",
       "      <td>2013-06-16</td>\n",
       "      <td>2</td>\n",
       "    </tr>\n",
       "    <tr>\n",
       "      <th>16</th>\n",
       "      <td>AAE</td>\n",
       "      <td>ALG</td>\n",
       "      <td>2013-07-24</td>\n",
       "      <td>1</td>\n",
       "    </tr>\n",
       "    <tr>\n",
       "      <th>17</th>\n",
       "      <td>AAE</td>\n",
       "      <td>ALG</td>\n",
       "      <td>2013-08-05</td>\n",
       "      <td>2</td>\n",
       "    </tr>\n",
       "    <tr>\n",
       "      <th>18</th>\n",
       "      <td>AAE</td>\n",
       "      <td>ALG</td>\n",
       "      <td>2013-08-18</td>\n",
       "      <td>2</td>\n",
       "    </tr>\n",
       "    <tr>\n",
       "      <th>19</th>\n",
       "      <td>AAE</td>\n",
       "      <td>ALG</td>\n",
       "      <td>2013-10-03</td>\n",
       "      <td>1</td>\n",
       "    </tr>\n",
       "    <tr>\n",
       "      <th>20</th>\n",
       "      <td>AAE</td>\n",
       "      <td>ALG</td>\n",
       "      <td>2013-10-23</td>\n",
       "      <td>2</td>\n",
       "    </tr>\n",
       "    <tr>\n",
       "      <th>21</th>\n",
       "      <td>AAE</td>\n",
       "      <td>ALG</td>\n",
       "      <td>2013-11-06</td>\n",
       "      <td>2</td>\n",
       "    </tr>\n",
       "    <tr>\n",
       "      <th>22</th>\n",
       "      <td>AAE</td>\n",
       "      <td>ALG</td>\n",
       "      <td>2013-11-25</td>\n",
       "      <td>4</td>\n",
       "    </tr>\n",
       "    <tr>\n",
       "      <th>23</th>\n",
       "      <td>AAE</td>\n",
       "      <td>ALG</td>\n",
       "      <td>2013-11-26</td>\n",
       "      <td>2</td>\n",
       "    </tr>\n",
       "    <tr>\n",
       "      <th>24</th>\n",
       "      <td>AAE</td>\n",
       "      <td>ALG</td>\n",
       "      <td>2013-12-16</td>\n",
       "      <td>4</td>\n",
       "    </tr>\n",
       "    <tr>\n",
       "      <th>25</th>\n",
       "      <td>AAE</td>\n",
       "      <td>ALG</td>\n",
       "      <td>2013-12-17</td>\n",
       "      <td>1</td>\n",
       "    </tr>\n",
       "    <tr>\n",
       "      <th>26</th>\n",
       "      <td>AAE</td>\n",
       "      <td>AMM</td>\n",
       "      <td>2013-12-01</td>\n",
       "      <td>4</td>\n",
       "    </tr>\n",
       "    <tr>\n",
       "      <th>27</th>\n",
       "      <td>AAE</td>\n",
       "      <td>BCN</td>\n",
       "      <td>2013-03-13</td>\n",
       "      <td>6</td>\n",
       "    </tr>\n",
       "    <tr>\n",
       "      <th>28</th>\n",
       "      <td>AAE</td>\n",
       "      <td>CDG</td>\n",
       "      <td>2013-01-31</td>\n",
       "      <td>2</td>\n",
       "    </tr>\n",
       "    <tr>\n",
       "      <th>29</th>\n",
       "      <td>AAE</td>\n",
       "      <td>DXB</td>\n",
       "      <td>2013-08-20</td>\n",
       "      <td>2</td>\n",
       "    </tr>\n",
       "    <tr>\n",
       "      <th>...</th>\n",
       "      <td>...</td>\n",
       "      <td>...</td>\n",
       "      <td>...</td>\n",
       "      <td>...</td>\n",
       "    </tr>\n",
       "    <tr>\n",
       "      <th>334846</th>\n",
       "      <td>ZYR</td>\n",
       "      <td>MRU</td>\n",
       "      <td>2013-01-17</td>\n",
       "      <td>2</td>\n",
       "    </tr>\n",
       "    <tr>\n",
       "      <th>334847</th>\n",
       "      <td>ZYR</td>\n",
       "      <td>MRU</td>\n",
       "      <td>2013-01-30</td>\n",
       "      <td>4</td>\n",
       "    </tr>\n",
       "    <tr>\n",
       "      <th>334848</th>\n",
       "      <td>ZYR</td>\n",
       "      <td>MRU</td>\n",
       "      <td>2013-03-14</td>\n",
       "      <td>4</td>\n",
       "    </tr>\n",
       "    <tr>\n",
       "      <th>334849</th>\n",
       "      <td>ZYR</td>\n",
       "      <td>MRU</td>\n",
       "      <td>2013-03-21</td>\n",
       "      <td>2</td>\n",
       "    </tr>\n",
       "    <tr>\n",
       "      <th>334850</th>\n",
       "      <td>ZYR</td>\n",
       "      <td>MRU</td>\n",
       "      <td>2013-04-11</td>\n",
       "      <td>6</td>\n",
       "    </tr>\n",
       "    <tr>\n",
       "      <th>334851</th>\n",
       "      <td>ZYR</td>\n",
       "      <td>MRU</td>\n",
       "      <td>2013-11-09</td>\n",
       "      <td>4</td>\n",
       "    </tr>\n",
       "    <tr>\n",
       "      <th>334852</th>\n",
       "      <td>ZYR</td>\n",
       "      <td>NBO</td>\n",
       "      <td>2013-09-02</td>\n",
       "      <td>2</td>\n",
       "    </tr>\n",
       "    <tr>\n",
       "      <th>334853</th>\n",
       "      <td>ZYR</td>\n",
       "      <td>NIM</td>\n",
       "      <td>2013-04-29</td>\n",
       "      <td>6</td>\n",
       "    </tr>\n",
       "    <tr>\n",
       "      <th>334854</th>\n",
       "      <td>ZYR</td>\n",
       "      <td>NTE</td>\n",
       "      <td>2013-05-09</td>\n",
       "      <td>2</td>\n",
       "    </tr>\n",
       "    <tr>\n",
       "      <th>334855</th>\n",
       "      <td>ZYR</td>\n",
       "      <td>PLZ</td>\n",
       "      <td>2013-01-10</td>\n",
       "      <td>2</td>\n",
       "    </tr>\n",
       "    <tr>\n",
       "      <th>334856</th>\n",
       "      <td>ZYR</td>\n",
       "      <td>PLZ</td>\n",
       "      <td>2013-01-30</td>\n",
       "      <td>2</td>\n",
       "    </tr>\n",
       "    <tr>\n",
       "      <th>334857</th>\n",
       "      <td>ZYR</td>\n",
       "      <td>PTP</td>\n",
       "      <td>2013-08-20</td>\n",
       "      <td>2</td>\n",
       "    </tr>\n",
       "    <tr>\n",
       "      <th>334858</th>\n",
       "      <td>ZYR</td>\n",
       "      <td>PUJ</td>\n",
       "      <td>2013-04-16</td>\n",
       "      <td>4</td>\n",
       "    </tr>\n",
       "    <tr>\n",
       "      <th>334859</th>\n",
       "      <td>ZYR</td>\n",
       "      <td>PVG</td>\n",
       "      <td>2013-01-24</td>\n",
       "      <td>4</td>\n",
       "    </tr>\n",
       "    <tr>\n",
       "      <th>334860</th>\n",
       "      <td>ZYR</td>\n",
       "      <td>PVG</td>\n",
       "      <td>2013-01-31</td>\n",
       "      <td>2</td>\n",
       "    </tr>\n",
       "    <tr>\n",
       "      <th>334861</th>\n",
       "      <td>ZYR</td>\n",
       "      <td>QKL</td>\n",
       "      <td>2013-05-02</td>\n",
       "      <td>1</td>\n",
       "    </tr>\n",
       "    <tr>\n",
       "      <th>334862</th>\n",
       "      <td>ZYR</td>\n",
       "      <td>QQS</td>\n",
       "      <td>2013-01-22</td>\n",
       "      <td>1</td>\n",
       "    </tr>\n",
       "    <tr>\n",
       "      <th>334863</th>\n",
       "      <td>ZYR</td>\n",
       "      <td>QQS</td>\n",
       "      <td>2013-01-29</td>\n",
       "      <td>1</td>\n",
       "    </tr>\n",
       "    <tr>\n",
       "      <th>334864</th>\n",
       "      <td>ZYR</td>\n",
       "      <td>QQS</td>\n",
       "      <td>2013-03-18</td>\n",
       "      <td>2</td>\n",
       "    </tr>\n",
       "    <tr>\n",
       "      <th>334865</th>\n",
       "      <td>ZYR</td>\n",
       "      <td>QQS</td>\n",
       "      <td>2013-04-03</td>\n",
       "      <td>1</td>\n",
       "    </tr>\n",
       "    <tr>\n",
       "      <th>334866</th>\n",
       "      <td>ZYR</td>\n",
       "      <td>QQS</td>\n",
       "      <td>2013-05-13</td>\n",
       "      <td>2</td>\n",
       "    </tr>\n",
       "    <tr>\n",
       "      <th>334867</th>\n",
       "      <td>ZYR</td>\n",
       "      <td>QQS</td>\n",
       "      <td>2013-09-19</td>\n",
       "      <td>1</td>\n",
       "    </tr>\n",
       "    <tr>\n",
       "      <th>334868</th>\n",
       "      <td>ZYR</td>\n",
       "      <td>QQS</td>\n",
       "      <td>2013-11-14</td>\n",
       "      <td>1</td>\n",
       "    </tr>\n",
       "    <tr>\n",
       "      <th>334869</th>\n",
       "      <td>ZYR</td>\n",
       "      <td>SCL</td>\n",
       "      <td>2013-01-14</td>\n",
       "      <td>2</td>\n",
       "    </tr>\n",
       "    <tr>\n",
       "      <th>334870</th>\n",
       "      <td>ZYR</td>\n",
       "      <td>SCL</td>\n",
       "      <td>2013-01-15</td>\n",
       "      <td>2</td>\n",
       "    </tr>\n",
       "    <tr>\n",
       "      <th>334871</th>\n",
       "      <td>ZYR</td>\n",
       "      <td>SCL</td>\n",
       "      <td>2013-10-11</td>\n",
       "      <td>4</td>\n",
       "    </tr>\n",
       "    <tr>\n",
       "      <th>334872</th>\n",
       "      <td>ZYR</td>\n",
       "      <td>SGN</td>\n",
       "      <td>2013-09-11</td>\n",
       "      <td>5</td>\n",
       "    </tr>\n",
       "    <tr>\n",
       "      <th>334873</th>\n",
       "      <td>ZYR</td>\n",
       "      <td>SLP</td>\n",
       "      <td>2013-05-02</td>\n",
       "      <td>12</td>\n",
       "    </tr>\n",
       "    <tr>\n",
       "      <th>334874</th>\n",
       "      <td>ZYR</td>\n",
       "      <td>TRN</td>\n",
       "      <td>2013-06-18</td>\n",
       "      <td>2</td>\n",
       "    </tr>\n",
       "    <tr>\n",
       "      <th>334875</th>\n",
       "      <td>ZYR</td>\n",
       "      <td>YUL</td>\n",
       "      <td>2013-04-26</td>\n",
       "      <td>2</td>\n",
       "    </tr>\n",
       "  </tbody>\n",
       "</table>\n",
       "<p>334876 rows × 4 columns</p>\n",
       "</div>"
      ],
      "text/plain": [
       "       dep_port arr_port    cre_date  Booked\n",
       "0           AAB      ROV  2013-05-29       2\n",
       "1           AAB      ROV  2013-08-24       2\n",
       "2           AAE      ALG  2013-01-07       1\n",
       "3           AAE      ALG  2013-01-08       4\n",
       "4           AAE      ALG  2013-01-09       2\n",
       "5           AAE      ALG  2013-01-29       1\n",
       "6           AAE      ALG  2013-02-18       2\n",
       "7           AAE      ALG  2013-03-10       2\n",
       "8           AAE      ALG  2013-03-17       6\n",
       "9           AAE      ALG  2013-03-26       2\n",
       "10          AAE      ALG  2013-03-28       4\n",
       "11          AAE      ALG  2013-03-31       4\n",
       "12          AAE      ALG  2013-04-24       2\n",
       "13          AAE      ALG  2013-04-29       3\n",
       "14          AAE      ALG  2013-06-13       4\n",
       "15          AAE      ALG  2013-06-16       2\n",
       "16          AAE      ALG  2013-07-24       1\n",
       "17          AAE      ALG  2013-08-05       2\n",
       "18          AAE      ALG  2013-08-18       2\n",
       "19          AAE      ALG  2013-10-03       1\n",
       "20          AAE      ALG  2013-10-23       2\n",
       "21          AAE      ALG  2013-11-06       2\n",
       "22          AAE      ALG  2013-11-25       4\n",
       "23          AAE      ALG  2013-11-26       2\n",
       "24          AAE      ALG  2013-12-16       4\n",
       "25          AAE      ALG  2013-12-17       1\n",
       "26          AAE      AMM  2013-12-01       4\n",
       "27          AAE      BCN  2013-03-13       6\n",
       "28          AAE      CDG  2013-01-31       2\n",
       "29          AAE      DXB  2013-08-20       2\n",
       "...         ...      ...         ...     ...\n",
       "334846      ZYR      MRU  2013-01-17       2\n",
       "334847      ZYR      MRU  2013-01-30       4\n",
       "334848      ZYR      MRU  2013-03-14       4\n",
       "334849      ZYR      MRU  2013-03-21       2\n",
       "334850      ZYR      MRU  2013-04-11       6\n",
       "334851      ZYR      MRU  2013-11-09       4\n",
       "334852      ZYR      NBO  2013-09-02       2\n",
       "334853      ZYR      NIM  2013-04-29       6\n",
       "334854      ZYR      NTE  2013-05-09       2\n",
       "334855      ZYR      PLZ  2013-01-10       2\n",
       "334856      ZYR      PLZ  2013-01-30       2\n",
       "334857      ZYR      PTP  2013-08-20       2\n",
       "334858      ZYR      PUJ  2013-04-16       4\n",
       "334859      ZYR      PVG  2013-01-24       4\n",
       "334860      ZYR      PVG  2013-01-31       2\n",
       "334861      ZYR      QKL  2013-05-02       1\n",
       "334862      ZYR      QQS  2013-01-22       1\n",
       "334863      ZYR      QQS  2013-01-29       1\n",
       "334864      ZYR      QQS  2013-03-18       2\n",
       "334865      ZYR      QQS  2013-04-03       1\n",
       "334866      ZYR      QQS  2013-05-13       2\n",
       "334867      ZYR      QQS  2013-09-19       1\n",
       "334868      ZYR      QQS  2013-11-14       1\n",
       "334869      ZYR      SCL  2013-01-14       2\n",
       "334870      ZYR      SCL  2013-01-15       2\n",
       "334871      ZYR      SCL  2013-10-11       4\n",
       "334872      ZYR      SGN  2013-09-11       5\n",
       "334873      ZYR      SLP  2013-05-02      12\n",
       "334874      ZYR      TRN  2013-06-18       2\n",
       "334875      ZYR      YUL  2013-04-26       2\n",
       "\n",
       "[334876 rows x 4 columns]"
      ]
     },
     "execution_count": 37,
     "metadata": {},
     "output_type": "execute_result"
    }
   ],
   "source": [
    "group = group.sum().reset_index() \n",
    "group"
   ]
  },
  {
   "cell_type": "code",
   "execution_count": null,
   "metadata": {},
   "outputs": [],
   "source": []
  },
  {
   "cell_type": "markdown",
   "metadata": {},
   "source": [
    "#### 5 -> left join searches + Bookeds"
   ]
  },
  {
   "cell_type": "code",
   "execution_count": 38,
   "metadata": {},
   "outputs": [],
   "source": [
    "bookings_grouped = group"
   ]
  },
  {
   "cell_type": "code",
   "execution_count": 40,
   "metadata": {},
   "outputs": [],
   "source": [
    "joined = searches.merge(bookings_grouped,how='left', left_on=['Destination', 'Origin', 'Date'], right_on =['arr_port', 'dep_port', 'cre_date'] )"
   ]
  },
  {
   "cell_type": "code",
   "execution_count": 41,
   "metadata": {},
   "outputs": [
    {
     "data": {
      "text/html": [
       "<div>\n",
       "<style scoped>\n",
       "    .dataframe tbody tr th:only-of-type {\n",
       "        vertical-align: middle;\n",
       "    }\n",
       "\n",
       "    .dataframe tbody tr th {\n",
       "        vertical-align: top;\n",
       "    }\n",
       "\n",
       "    .dataframe thead th {\n",
       "        text-align: right;\n",
       "    }\n",
       "</style>\n",
       "<table border=\"1\" class=\"dataframe\">\n",
       "  <thead>\n",
       "    <tr style=\"text-align: right;\">\n",
       "      <th></th>\n",
       "      <th>index</th>\n",
       "      <th>Date</th>\n",
       "      <th>Origin</th>\n",
       "      <th>Destination</th>\n",
       "      <th>dep_port</th>\n",
       "      <th>arr_port</th>\n",
       "      <th>cre_date</th>\n",
       "      <th>Booked</th>\n",
       "    </tr>\n",
       "  </thead>\n",
       "  <tbody>\n",
       "    <tr>\n",
       "      <th>0</th>\n",
       "      <td>0</td>\n",
       "      <td>2013-01-01</td>\n",
       "      <td>TXL</td>\n",
       "      <td>AUH</td>\n",
       "      <td>NaN</td>\n",
       "      <td>NaN</td>\n",
       "      <td>NaN</td>\n",
       "      <td>NaN</td>\n",
       "    </tr>\n",
       "    <tr>\n",
       "      <th>1</th>\n",
       "      <td>1</td>\n",
       "      <td>2013-01-01</td>\n",
       "      <td>ATH</td>\n",
       "      <td>MIL</td>\n",
       "      <td>NaN</td>\n",
       "      <td>NaN</td>\n",
       "      <td>NaN</td>\n",
       "      <td>NaN</td>\n",
       "    </tr>\n",
       "    <tr>\n",
       "      <th>2</th>\n",
       "      <td>2</td>\n",
       "      <td>2013-01-01</td>\n",
       "      <td>ICT</td>\n",
       "      <td>SFO</td>\n",
       "      <td>NaN</td>\n",
       "      <td>NaN</td>\n",
       "      <td>NaN</td>\n",
       "      <td>NaN</td>\n",
       "    </tr>\n",
       "    <tr>\n",
       "      <th>3</th>\n",
       "      <td>3</td>\n",
       "      <td>2013-01-01</td>\n",
       "      <td>RNB</td>\n",
       "      <td>ARN</td>\n",
       "      <td>NaN</td>\n",
       "      <td>NaN</td>\n",
       "      <td>NaN</td>\n",
       "      <td>NaN</td>\n",
       "    </tr>\n",
       "    <tr>\n",
       "      <th>4</th>\n",
       "      <td>4</td>\n",
       "      <td>2013-01-01</td>\n",
       "      <td>OSL</td>\n",
       "      <td>MAD</td>\n",
       "      <td>NaN</td>\n",
       "      <td>NaN</td>\n",
       "      <td>NaN</td>\n",
       "      <td>NaN</td>\n",
       "    </tr>\n",
       "  </tbody>\n",
       "</table>\n",
       "</div>"
      ],
      "text/plain": [
       "   index        Date Origin Destination dep_port arr_port cre_date  Booked\n",
       "0      0  2013-01-01    TXL         AUH      NaN      NaN      NaN     NaN\n",
       "1      1  2013-01-01    ATH         MIL      NaN      NaN      NaN     NaN\n",
       "2      2  2013-01-01    ICT         SFO      NaN      NaN      NaN     NaN\n",
       "3      3  2013-01-01    RNB         ARN      NaN      NaN      NaN     NaN\n",
       "4      4  2013-01-01    OSL         MAD      NaN      NaN      NaN     NaN"
      ]
     },
     "execution_count": 41,
     "metadata": {},
     "output_type": "execute_result"
    }
   ],
   "source": [
    "joined.head()"
   ]
  },
  {
   "cell_type": "markdown",
   "metadata": {},
   "source": [
    "Es un left join, pueden aparecer vacios de la derecha"
   ]
  },
  {
   "cell_type": "code",
   "execution_count": 42,
   "metadata": {},
   "outputs": [],
   "source": [
    "joined.drop(['arr_port', 'dep_port', 'cre_date'], axis=1, inplace=True)"
   ]
  },
  {
   "cell_type": "code",
   "execution_count": 43,
   "metadata": {},
   "outputs": [
    {
     "data": {
      "text/html": [
       "<div>\n",
       "<style scoped>\n",
       "    .dataframe tbody tr th:only-of-type {\n",
       "        vertical-align: middle;\n",
       "    }\n",
       "\n",
       "    .dataframe tbody tr th {\n",
       "        vertical-align: top;\n",
       "    }\n",
       "\n",
       "    .dataframe thead th {\n",
       "        text-align: right;\n",
       "    }\n",
       "</style>\n",
       "<table border=\"1\" class=\"dataframe\">\n",
       "  <thead>\n",
       "    <tr style=\"text-align: right;\">\n",
       "      <th></th>\n",
       "      <th>index</th>\n",
       "      <th>Date</th>\n",
       "      <th>Origin</th>\n",
       "      <th>Destination</th>\n",
       "      <th>Booked</th>\n",
       "    </tr>\n",
       "  </thead>\n",
       "  <tbody>\n",
       "    <tr>\n",
       "      <th>0</th>\n",
       "      <td>0</td>\n",
       "      <td>2013-01-01</td>\n",
       "      <td>TXL</td>\n",
       "      <td>AUH</td>\n",
       "      <td>NaN</td>\n",
       "    </tr>\n",
       "    <tr>\n",
       "      <th>1</th>\n",
       "      <td>1</td>\n",
       "      <td>2013-01-01</td>\n",
       "      <td>ATH</td>\n",
       "      <td>MIL</td>\n",
       "      <td>NaN</td>\n",
       "    </tr>\n",
       "    <tr>\n",
       "      <th>2</th>\n",
       "      <td>2</td>\n",
       "      <td>2013-01-01</td>\n",
       "      <td>ICT</td>\n",
       "      <td>SFO</td>\n",
       "      <td>NaN</td>\n",
       "    </tr>\n",
       "    <tr>\n",
       "      <th>3</th>\n",
       "      <td>3</td>\n",
       "      <td>2013-01-01</td>\n",
       "      <td>RNB</td>\n",
       "      <td>ARN</td>\n",
       "      <td>NaN</td>\n",
       "    </tr>\n",
       "    <tr>\n",
       "      <th>4</th>\n",
       "      <td>4</td>\n",
       "      <td>2013-01-01</td>\n",
       "      <td>OSL</td>\n",
       "      <td>MAD</td>\n",
       "      <td>NaN</td>\n",
       "    </tr>\n",
       "  </tbody>\n",
       "</table>\n",
       "</div>"
      ],
      "text/plain": [
       "   index        Date Origin Destination  Booked\n",
       "0      0  2013-01-01    TXL         AUH     NaN\n",
       "1      1  2013-01-01    ATH         MIL     NaN\n",
       "2      2  2013-01-01    ICT         SFO     NaN\n",
       "3      3  2013-01-01    RNB         ARN     NaN\n",
       "4      4  2013-01-01    OSL         MAD     NaN"
      ]
     },
     "execution_count": 43,
     "metadata": {},
     "output_type": "execute_result"
    }
   ],
   "source": [
    "joined.head()"
   ]
  },
  {
   "cell_type": "code",
   "execution_count": 45,
   "metadata": {},
   "outputs": [
    {
     "data": {
      "text/html": [
       "<div>\n",
       "<style scoped>\n",
       "    .dataframe tbody tr th:only-of-type {\n",
       "        vertical-align: middle;\n",
       "    }\n",
       "\n",
       "    .dataframe tbody tr th {\n",
       "        vertical-align: top;\n",
       "    }\n",
       "\n",
       "    .dataframe thead th {\n",
       "        text-align: right;\n",
       "    }\n",
       "</style>\n",
       "<table border=\"1\" class=\"dataframe\">\n",
       "  <thead>\n",
       "    <tr style=\"text-align: right;\">\n",
       "      <th></th>\n",
       "      <th>index</th>\n",
       "      <th>Date</th>\n",
       "      <th>Origin</th>\n",
       "      <th>Destination</th>\n",
       "      <th>Booked</th>\n",
       "    </tr>\n",
       "  </thead>\n",
       "  <tbody>\n",
       "    <tr>\n",
       "      <th>27</th>\n",
       "      <td>27</td>\n",
       "      <td>2013-01-01</td>\n",
       "      <td>RUH</td>\n",
       "      <td>JED</td>\n",
       "      <td>17.0</td>\n",
       "    </tr>\n",
       "    <tr>\n",
       "      <th>40</th>\n",
       "      <td>40</td>\n",
       "      <td>2013-01-01</td>\n",
       "      <td>DMM</td>\n",
       "      <td>MNL</td>\n",
       "      <td>5.0</td>\n",
       "    </tr>\n",
       "    <tr>\n",
       "      <th>59</th>\n",
       "      <td>59</td>\n",
       "      <td>2013-01-01</td>\n",
       "      <td>ATL</td>\n",
       "      <td>MIA</td>\n",
       "      <td>6.0</td>\n",
       "    </tr>\n",
       "    <tr>\n",
       "      <th>134</th>\n",
       "      <td>134</td>\n",
       "      <td>2013-01-01</td>\n",
       "      <td>MEL</td>\n",
       "      <td>SYD</td>\n",
       "      <td>10.0</td>\n",
       "    </tr>\n",
       "    <tr>\n",
       "      <th>172</th>\n",
       "      <td>172</td>\n",
       "      <td>2013-01-01</td>\n",
       "      <td>BOM</td>\n",
       "      <td>JED</td>\n",
       "      <td>2.0</td>\n",
       "    </tr>\n",
       "  </tbody>\n",
       "</table>\n",
       "</div>"
      ],
      "text/plain": [
       "     index        Date Origin Destination  Booked\n",
       "27      27  2013-01-01    RUH         JED    17.0\n",
       "40      40  2013-01-01    DMM         MNL     5.0\n",
       "59      59  2013-01-01    ATL         MIA     6.0\n",
       "134    134  2013-01-01    MEL         SYD    10.0\n",
       "172    172  2013-01-01    BOM         JED     2.0"
      ]
     },
     "execution_count": 45,
     "metadata": {},
     "output_type": "execute_result"
    }
   ],
   "source": [
    "joined[ joined[\"Booked\"] > 1].head()"
   ]
  },
  {
   "cell_type": "markdown",
   "metadata": {},
   "source": [
    "#### 6 -> Change Nan to 0 and if >0 to 1"
   ]
  },
  {
   "cell_type": "code",
   "execution_count": 47,
   "metadata": {},
   "outputs": [],
   "source": [
    "joined['Booked'].fillna(value=0,inplace=True)"
   ]
  },
  {
   "cell_type": "code",
   "execution_count": 48,
   "metadata": {},
   "outputs": [
    {
     "data": {
      "text/html": [
       "<div>\n",
       "<style scoped>\n",
       "    .dataframe tbody tr th:only-of-type {\n",
       "        vertical-align: middle;\n",
       "    }\n",
       "\n",
       "    .dataframe tbody tr th {\n",
       "        vertical-align: top;\n",
       "    }\n",
       "\n",
       "    .dataframe thead th {\n",
       "        text-align: right;\n",
       "    }\n",
       "</style>\n",
       "<table border=\"1\" class=\"dataframe\">\n",
       "  <thead>\n",
       "    <tr style=\"text-align: right;\">\n",
       "      <th></th>\n",
       "      <th>index</th>\n",
       "      <th>Date</th>\n",
       "      <th>Origin</th>\n",
       "      <th>Destination</th>\n",
       "      <th>Booked</th>\n",
       "    </tr>\n",
       "  </thead>\n",
       "  <tbody>\n",
       "    <tr>\n",
       "      <th>0</th>\n",
       "      <td>0</td>\n",
       "      <td>2013-01-01</td>\n",
       "      <td>TXL</td>\n",
       "      <td>AUH</td>\n",
       "      <td>0.0</td>\n",
       "    </tr>\n",
       "    <tr>\n",
       "      <th>1</th>\n",
       "      <td>1</td>\n",
       "      <td>2013-01-01</td>\n",
       "      <td>ATH</td>\n",
       "      <td>MIL</td>\n",
       "      <td>0.0</td>\n",
       "    </tr>\n",
       "    <tr>\n",
       "      <th>2</th>\n",
       "      <td>2</td>\n",
       "      <td>2013-01-01</td>\n",
       "      <td>ICT</td>\n",
       "      <td>SFO</td>\n",
       "      <td>0.0</td>\n",
       "    </tr>\n",
       "    <tr>\n",
       "      <th>3</th>\n",
       "      <td>3</td>\n",
       "      <td>2013-01-01</td>\n",
       "      <td>RNB</td>\n",
       "      <td>ARN</td>\n",
       "      <td>0.0</td>\n",
       "    </tr>\n",
       "    <tr>\n",
       "      <th>4</th>\n",
       "      <td>4</td>\n",
       "      <td>2013-01-01</td>\n",
       "      <td>OSL</td>\n",
       "      <td>MAD</td>\n",
       "      <td>0.0</td>\n",
       "    </tr>\n",
       "  </tbody>\n",
       "</table>\n",
       "</div>"
      ],
      "text/plain": [
       "   index        Date Origin Destination  Booked\n",
       "0      0  2013-01-01    TXL         AUH     0.0\n",
       "1      1  2013-01-01    ATH         MIL     0.0\n",
       "2      2  2013-01-01    ICT         SFO     0.0\n",
       "3      3  2013-01-01    RNB         ARN     0.0\n",
       "4      4  2013-01-01    OSL         MAD     0.0"
      ]
     },
     "execution_count": 48,
     "metadata": {},
     "output_type": "execute_result"
    }
   ],
   "source": [
    "joined.head()"
   ]
  },
  {
   "cell_type": "code",
   "execution_count": 51,
   "metadata": {},
   "outputs": [],
   "source": [
    "def is_not_zero(input):\n",
    "    if input == 0: return 0\n",
    "    \n",
    "    return 1\n",
    "\n",
    "joined['Booked'] = joined['Booked'].apply(is_not_zero)"
   ]
  },
  {
   "cell_type": "code",
   "execution_count": 53,
   "metadata": {},
   "outputs": [
    {
     "data": {
      "text/html": [
       "<div>\n",
       "<style scoped>\n",
       "    .dataframe tbody tr th:only-of-type {\n",
       "        vertical-align: middle;\n",
       "    }\n",
       "\n",
       "    .dataframe tbody tr th {\n",
       "        vertical-align: top;\n",
       "    }\n",
       "\n",
       "    .dataframe thead th {\n",
       "        text-align: right;\n",
       "    }\n",
       "</style>\n",
       "<table border=\"1\" class=\"dataframe\">\n",
       "  <thead>\n",
       "    <tr style=\"text-align: right;\">\n",
       "      <th></th>\n",
       "      <th>index</th>\n",
       "      <th>Date</th>\n",
       "      <th>Origin</th>\n",
       "      <th>Destination</th>\n",
       "      <th>Booked</th>\n",
       "    </tr>\n",
       "  </thead>\n",
       "  <tbody>\n",
       "    <tr>\n",
       "      <th>0</th>\n",
       "      <td>0</td>\n",
       "      <td>2013-01-01</td>\n",
       "      <td>TXL</td>\n",
       "      <td>AUH</td>\n",
       "      <td>0</td>\n",
       "    </tr>\n",
       "    <tr>\n",
       "      <th>1</th>\n",
       "      <td>1</td>\n",
       "      <td>2013-01-01</td>\n",
       "      <td>ATH</td>\n",
       "      <td>MIL</td>\n",
       "      <td>0</td>\n",
       "    </tr>\n",
       "    <tr>\n",
       "      <th>2</th>\n",
       "      <td>2</td>\n",
       "      <td>2013-01-01</td>\n",
       "      <td>ICT</td>\n",
       "      <td>SFO</td>\n",
       "      <td>0</td>\n",
       "    </tr>\n",
       "    <tr>\n",
       "      <th>3</th>\n",
       "      <td>3</td>\n",
       "      <td>2013-01-01</td>\n",
       "      <td>RNB</td>\n",
       "      <td>ARN</td>\n",
       "      <td>0</td>\n",
       "    </tr>\n",
       "    <tr>\n",
       "      <th>4</th>\n",
       "      <td>4</td>\n",
       "      <td>2013-01-01</td>\n",
       "      <td>OSL</td>\n",
       "      <td>MAD</td>\n",
       "      <td>0</td>\n",
       "    </tr>\n",
       "  </tbody>\n",
       "</table>\n",
       "</div>"
      ],
      "text/plain": [
       "   index        Date Origin Destination  Booked\n",
       "0      0  2013-01-01    TXL         AUH       0\n",
       "1      1  2013-01-01    ATH         MIL       0\n",
       "2      2  2013-01-01    ICT         SFO       0\n",
       "3      3  2013-01-01    RNB         ARN       0\n",
       "4      4  2013-01-01    OSL         MAD       0"
      ]
     },
     "execution_count": 53,
     "metadata": {},
     "output_type": "execute_result"
    }
   ],
   "source": [
    "joined.head()"
   ]
  },
  {
   "cell_type": "code",
   "execution_count": 54,
   "metadata": {},
   "outputs": [
    {
     "data": {
      "text/plain": [
       "count    421391.000000\n",
       "mean          0.035682\n",
       "std           0.185496\n",
       "min           0.000000\n",
       "25%           0.000000\n",
       "50%           0.000000\n",
       "75%           0.000000\n",
       "max           1.000000\n",
       "Name: Booked, dtype: float64"
      ]
     },
     "execution_count": 54,
     "metadata": {},
     "output_type": "execute_result"
    }
   ],
   "source": [
    "joined['Booked'].describe()"
   ]
  },
  {
   "cell_type": "markdown",
   "metadata": {},
   "source": [
    "Sabemos que sólo hay unos y ceros"
   ]
  },
  {
   "cell_type": "markdown",
   "metadata": {},
   "source": [
    "Con la mean, vemos que el 3.5 % de las búsquedas acabó en reserva"
   ]
  },
  {
   "cell_type": "markdown",
   "metadata": {},
   "source": [
    "#### 7 -> Add column in the file. searched"
   ]
  },
  {
   "cell_type": "code",
   "execution_count": 56,
   "metadata": {},
   "outputs": [],
   "source": [
    "joined.rename(columns={'index': 'old_index_from_file'}, inplace=True)"
   ]
  },
  {
   "cell_type": "code",
   "execution_count": 57,
   "metadata": {},
   "outputs": [
    {
     "data": {
      "text/html": [
       "<div>\n",
       "<style scoped>\n",
       "    .dataframe tbody tr th:only-of-type {\n",
       "        vertical-align: middle;\n",
       "    }\n",
       "\n",
       "    .dataframe tbody tr th {\n",
       "        vertical-align: top;\n",
       "    }\n",
       "\n",
       "    .dataframe thead th {\n",
       "        text-align: right;\n",
       "    }\n",
       "</style>\n",
       "<table border=\"1\" class=\"dataframe\">\n",
       "  <thead>\n",
       "    <tr style=\"text-align: right;\">\n",
       "      <th></th>\n",
       "      <th>old_index_from_file</th>\n",
       "      <th>Date</th>\n",
       "      <th>Origin</th>\n",
       "      <th>Destination</th>\n",
       "      <th>Booked</th>\n",
       "    </tr>\n",
       "  </thead>\n",
       "  <tbody>\n",
       "    <tr>\n",
       "      <th>0</th>\n",
       "      <td>0</td>\n",
       "      <td>2013-01-01</td>\n",
       "      <td>TXL</td>\n",
       "      <td>AUH</td>\n",
       "      <td>0</td>\n",
       "    </tr>\n",
       "    <tr>\n",
       "      <th>1</th>\n",
       "      <td>1</td>\n",
       "      <td>2013-01-01</td>\n",
       "      <td>ATH</td>\n",
       "      <td>MIL</td>\n",
       "      <td>0</td>\n",
       "    </tr>\n",
       "    <tr>\n",
       "      <th>2</th>\n",
       "      <td>2</td>\n",
       "      <td>2013-01-01</td>\n",
       "      <td>ICT</td>\n",
       "      <td>SFO</td>\n",
       "      <td>0</td>\n",
       "    </tr>\n",
       "    <tr>\n",
       "      <th>3</th>\n",
       "      <td>3</td>\n",
       "      <td>2013-01-01</td>\n",
       "      <td>RNB</td>\n",
       "      <td>ARN</td>\n",
       "      <td>0</td>\n",
       "    </tr>\n",
       "    <tr>\n",
       "      <th>4</th>\n",
       "      <td>4</td>\n",
       "      <td>2013-01-01</td>\n",
       "      <td>OSL</td>\n",
       "      <td>MAD</td>\n",
       "      <td>0</td>\n",
       "    </tr>\n",
       "  </tbody>\n",
       "</table>\n",
       "</div>"
      ],
      "text/plain": [
       "   old_index_from_file        Date Origin Destination  Booked\n",
       "0                    0  2013-01-01    TXL         AUH       0\n",
       "1                    1  2013-01-01    ATH         MIL       0\n",
       "2                    2  2013-01-01    ICT         SFO       0\n",
       "3                    3  2013-01-01    RNB         ARN       0\n",
       "4                    4  2013-01-01    OSL         MAD       0"
      ]
     },
     "execution_count": 57,
     "metadata": {},
     "output_type": "execute_result"
    }
   ],
   "source": [
    "joined.head()"
   ]
  },
  {
   "cell_type": "code",
   "execution_count": 61,
   "metadata": {},
   "outputs": [
    {
     "name": "stderr",
     "output_type": "stream",
     "text": [
      "/home/dsc/anaconda3/lib/python3.6/site-packages/IPython/core/interactiveshell.py:2728: DtypeWarning: Columns (40,41,42,44) have mixed types. Specify dtype option on import or set low_memory=False.\n",
      "  interactivity=interactivity, compiler=compiler, result=result)\n"
     ]
    }
   ],
   "source": [
    "searchs = pd.read_csv('searches_no_dup.csv.bz2', sep='^', low_memory=True)"
   ]
  },
  {
   "cell_type": "code",
   "execution_count": 63,
   "metadata": {},
   "outputs": [
    {
     "data": {
      "text/html": [
       "<div>\n",
       "<style scoped>\n",
       "    .dataframe tbody tr th:only-of-type {\n",
       "        vertical-align: middle;\n",
       "    }\n",
       "\n",
       "    .dataframe tbody tr th {\n",
       "        vertical-align: top;\n",
       "    }\n",
       "\n",
       "    .dataframe thead th {\n",
       "        text-align: right;\n",
       "    }\n",
       "</style>\n",
       "<table border=\"1\" class=\"dataframe\">\n",
       "  <thead>\n",
       "    <tr style=\"text-align: right;\">\n",
       "      <th></th>\n",
       "      <th>Date</th>\n",
       "      <th>Time</th>\n",
       "      <th>TxnCode</th>\n",
       "      <th>OfficeID</th>\n",
       "      <th>Country</th>\n",
       "      <th>Origin</th>\n",
       "      <th>Destination</th>\n",
       "      <th>RoundTrip</th>\n",
       "      <th>NbSegments</th>\n",
       "      <th>Seg1Departure</th>\n",
       "      <th>...</th>\n",
       "      <th>Seg6Arrival</th>\n",
       "      <th>Seg6Date</th>\n",
       "      <th>Seg6Carrier</th>\n",
       "      <th>Seg6BookingCode</th>\n",
       "      <th>From</th>\n",
       "      <th>IsPublishedForNeg</th>\n",
       "      <th>IsFromInternet</th>\n",
       "      <th>IsFromVista</th>\n",
       "      <th>TerminalID</th>\n",
       "      <th>InternetOffice</th>\n",
       "    </tr>\n",
       "  </thead>\n",
       "  <tbody>\n",
       "    <tr>\n",
       "      <th>0</th>\n",
       "      <td>2013-01-01</td>\n",
       "      <td>20:25:57</td>\n",
       "      <td>MPT</td>\n",
       "      <td>624d8c3ac0b3a7ca03e3c167e0f48327</td>\n",
       "      <td>DE</td>\n",
       "      <td>TXL</td>\n",
       "      <td>AUH</td>\n",
       "      <td>1.0</td>\n",
       "      <td>2.0</td>\n",
       "      <td>TXL</td>\n",
       "      <td>...</td>\n",
       "      <td>NaN</td>\n",
       "      <td>NaN</td>\n",
       "      <td>NaN</td>\n",
       "      <td>NaN</td>\n",
       "      <td>1ASIWS</td>\n",
       "      <td>0</td>\n",
       "      <td>0</td>\n",
       "      <td>0</td>\n",
       "      <td>d41d8cd98f00b204e9800998ecf8427e</td>\n",
       "      <td>FRA</td>\n",
       "    </tr>\n",
       "    <tr>\n",
       "      <th>1</th>\n",
       "      <td>2013-01-01</td>\n",
       "      <td>10:15:33</td>\n",
       "      <td>MPT</td>\n",
       "      <td>b0af35b31588dc4ab06d5cf2986e8e02</td>\n",
       "      <td>MD</td>\n",
       "      <td>ATH</td>\n",
       "      <td>MIL</td>\n",
       "      <td>0.0</td>\n",
       "      <td>1.0</td>\n",
       "      <td>ATH</td>\n",
       "      <td>...</td>\n",
       "      <td>NaN</td>\n",
       "      <td>NaN</td>\n",
       "      <td>NaN</td>\n",
       "      <td>NaN</td>\n",
       "      <td>1ASIWS</td>\n",
       "      <td>0</td>\n",
       "      <td>0</td>\n",
       "      <td>0</td>\n",
       "      <td>d41d8cd98f00b204e9800998ecf8427e</td>\n",
       "      <td>KIV</td>\n",
       "    </tr>\n",
       "    <tr>\n",
       "      <th>2</th>\n",
       "      <td>2013-01-01</td>\n",
       "      <td>18:04:49</td>\n",
       "      <td>MPT</td>\n",
       "      <td>3561a60621de06ab1badc8ca55699ef3</td>\n",
       "      <td>US</td>\n",
       "      <td>ICT</td>\n",
       "      <td>SFO</td>\n",
       "      <td>1.0</td>\n",
       "      <td>2.0</td>\n",
       "      <td>ICT</td>\n",
       "      <td>...</td>\n",
       "      <td>NaN</td>\n",
       "      <td>NaN</td>\n",
       "      <td>NaN</td>\n",
       "      <td>NaN</td>\n",
       "      <td>1ASIWS</td>\n",
       "      <td>0</td>\n",
       "      <td>0</td>\n",
       "      <td>0</td>\n",
       "      <td>d41d8cd98f00b204e9800998ecf8427e</td>\n",
       "      <td>NYC</td>\n",
       "    </tr>\n",
       "    <tr>\n",
       "      <th>3</th>\n",
       "      <td>2013-01-01</td>\n",
       "      <td>17:42:40</td>\n",
       "      <td>FXP</td>\n",
       "      <td>1864e5e8013d9414150e91d26b6a558b</td>\n",
       "      <td>SE</td>\n",
       "      <td>RNB</td>\n",
       "      <td>ARN</td>\n",
       "      <td>0.0</td>\n",
       "      <td>1.0</td>\n",
       "      <td>RNB</td>\n",
       "      <td>...</td>\n",
       "      <td>NaN</td>\n",
       "      <td>NaN</td>\n",
       "      <td>NaN</td>\n",
       "      <td>NaN</td>\n",
       "      <td>1ASI</td>\n",
       "      <td>0</td>\n",
       "      <td>0</td>\n",
       "      <td>0</td>\n",
       "      <td>d41d8cd98f00b204e9800998ecf8427e</td>\n",
       "      <td>STO</td>\n",
       "    </tr>\n",
       "    <tr>\n",
       "      <th>4</th>\n",
       "      <td>2013-01-01</td>\n",
       "      <td>17:48:29</td>\n",
       "      <td>MPT</td>\n",
       "      <td>1ec336348f44207d2e0027dc3a68c118</td>\n",
       "      <td>NO</td>\n",
       "      <td>OSL</td>\n",
       "      <td>MAD</td>\n",
       "      <td>1.0</td>\n",
       "      <td>2.0</td>\n",
       "      <td>OSL</td>\n",
       "      <td>...</td>\n",
       "      <td>NaN</td>\n",
       "      <td>NaN</td>\n",
       "      <td>NaN</td>\n",
       "      <td>NaN</td>\n",
       "      <td>1ASIWS</td>\n",
       "      <td>0</td>\n",
       "      <td>0</td>\n",
       "      <td>0</td>\n",
       "      <td>d41d8cd98f00b204e9800998ecf8427e</td>\n",
       "      <td>OSL</td>\n",
       "    </tr>\n",
       "  </tbody>\n",
       "</table>\n",
       "<p>5 rows × 45 columns</p>\n",
       "</div>"
      ],
      "text/plain": [
       "         Date      Time TxnCode                          OfficeID Country  \\\n",
       "0  2013-01-01  20:25:57     MPT  624d8c3ac0b3a7ca03e3c167e0f48327      DE   \n",
       "1  2013-01-01  10:15:33     MPT  b0af35b31588dc4ab06d5cf2986e8e02      MD   \n",
       "2  2013-01-01  18:04:49     MPT  3561a60621de06ab1badc8ca55699ef3      US   \n",
       "3  2013-01-01  17:42:40     FXP  1864e5e8013d9414150e91d26b6a558b      SE   \n",
       "4  2013-01-01  17:48:29     MPT  1ec336348f44207d2e0027dc3a68c118      NO   \n",
       "\n",
       "  Origin Destination  RoundTrip  NbSegments Seg1Departure      ...        \\\n",
       "0    TXL         AUH        1.0         2.0           TXL      ...         \n",
       "1    ATH         MIL        0.0         1.0           ATH      ...         \n",
       "2    ICT         SFO        1.0         2.0           ICT      ...         \n",
       "3    RNB         ARN        0.0         1.0           RNB      ...         \n",
       "4    OSL         MAD        1.0         2.0           OSL      ...         \n",
       "\n",
       "  Seg6Arrival Seg6Date Seg6Carrier Seg6BookingCode    From IsPublishedForNeg  \\\n",
       "0         NaN      NaN         NaN             NaN  1ASIWS                 0   \n",
       "1         NaN      NaN         NaN             NaN  1ASIWS                 0   \n",
       "2         NaN      NaN         NaN             NaN  1ASIWS                 0   \n",
       "3         NaN      NaN         NaN             NaN    1ASI                 0   \n",
       "4         NaN      NaN         NaN             NaN  1ASIWS                 0   \n",
       "\n",
       "  IsFromInternet IsFromVista                        TerminalID InternetOffice  \n",
       "0              0           0  d41d8cd98f00b204e9800998ecf8427e            FRA  \n",
       "1              0           0  d41d8cd98f00b204e9800998ecf8427e            KIV  \n",
       "2              0           0  d41d8cd98f00b204e9800998ecf8427e            NYC  \n",
       "3              0           0  d41d8cd98f00b204e9800998ecf8427e            STO  \n",
       "4              0           0  d41d8cd98f00b204e9800998ecf8427e            OSL  \n",
       "\n",
       "[5 rows x 45 columns]"
      ]
     },
     "execution_count": 63,
     "metadata": {},
     "output_type": "execute_result"
    }
   ],
   "source": [
    "searchs.head()"
   ]
  },
  {
   "cell_type": "markdown",
   "metadata": {},
   "source": [
    "Ya del joined sólome interesa el indice antiguo y el booked"
   ]
  },
  {
   "cell_type": "code",
   "execution_count": 70,
   "metadata": {},
   "outputs": [
    {
     "data": {
      "text/html": [
       "<div>\n",
       "<style scoped>\n",
       "    .dataframe tbody tr th:only-of-type {\n",
       "        vertical-align: middle;\n",
       "    }\n",
       "\n",
       "    .dataframe tbody tr th {\n",
       "        vertical-align: top;\n",
       "    }\n",
       "\n",
       "    .dataframe thead th {\n",
       "        text-align: right;\n",
       "    }\n",
       "</style>\n",
       "<table border=\"1\" class=\"dataframe\">\n",
       "  <thead>\n",
       "    <tr style=\"text-align: right;\">\n",
       "      <th></th>\n",
       "      <th>old_index_from_file</th>\n",
       "      <th>Booked</th>\n",
       "    </tr>\n",
       "  </thead>\n",
       "  <tbody>\n",
       "    <tr>\n",
       "      <th>0</th>\n",
       "      <td>0</td>\n",
       "      <td>0</td>\n",
       "    </tr>\n",
       "    <tr>\n",
       "      <th>1</th>\n",
       "      <td>1</td>\n",
       "      <td>0</td>\n",
       "    </tr>\n",
       "    <tr>\n",
       "      <th>2</th>\n",
       "      <td>2</td>\n",
       "      <td>0</td>\n",
       "    </tr>\n",
       "    <tr>\n",
       "      <th>3</th>\n",
       "      <td>3</td>\n",
       "      <td>0</td>\n",
       "    </tr>\n",
       "    <tr>\n",
       "      <th>4</th>\n",
       "      <td>4</td>\n",
       "      <td>0</td>\n",
       "    </tr>\n",
       "  </tbody>\n",
       "</table>\n",
       "</div>"
      ],
      "text/plain": [
       "   old_index_from_file  Booked\n",
       "0                    0       0\n",
       "1                    1       0\n",
       "2                    2       0\n",
       "3                    3       0\n",
       "4                    4       0"
      ]
     },
     "execution_count": 70,
     "metadata": {},
     "output_type": "execute_result"
    }
   ],
   "source": [
    "booked = joined.drop(['Date', 'Origin', 'Destination'], axis=1)\n",
    "booked.head()"
   ]
  },
  {
   "cell_type": "code",
   "execution_count": 71,
   "metadata": {},
   "outputs": [
    {
     "data": {
      "text/html": [
       "<div>\n",
       "<style scoped>\n",
       "    .dataframe tbody tr th:only-of-type {\n",
       "        vertical-align: middle;\n",
       "    }\n",
       "\n",
       "    .dataframe tbody tr th {\n",
       "        vertical-align: top;\n",
       "    }\n",
       "\n",
       "    .dataframe thead th {\n",
       "        text-align: right;\n",
       "    }\n",
       "</style>\n",
       "<table border=\"1\" class=\"dataframe\">\n",
       "  <thead>\n",
       "    <tr style=\"text-align: right;\">\n",
       "      <th></th>\n",
       "      <th>Date</th>\n",
       "      <th>Time</th>\n",
       "      <th>TxnCode</th>\n",
       "      <th>OfficeID</th>\n",
       "      <th>Country</th>\n",
       "      <th>Origin</th>\n",
       "      <th>Destination</th>\n",
       "      <th>RoundTrip</th>\n",
       "      <th>NbSegments</th>\n",
       "      <th>Seg1Departure</th>\n",
       "      <th>...</th>\n",
       "      <th>Seg6Carrier</th>\n",
       "      <th>Seg6BookingCode</th>\n",
       "      <th>From</th>\n",
       "      <th>IsPublishedForNeg</th>\n",
       "      <th>IsFromInternet</th>\n",
       "      <th>IsFromVista</th>\n",
       "      <th>TerminalID</th>\n",
       "      <th>InternetOffice</th>\n",
       "      <th>old_index_from_file</th>\n",
       "      <th>Booked</th>\n",
       "    </tr>\n",
       "  </thead>\n",
       "  <tbody>\n",
       "    <tr>\n",
       "      <th>0</th>\n",
       "      <td>2013-01-01</td>\n",
       "      <td>20:25:57</td>\n",
       "      <td>MPT</td>\n",
       "      <td>624d8c3ac0b3a7ca03e3c167e0f48327</td>\n",
       "      <td>DE</td>\n",
       "      <td>TXL</td>\n",
       "      <td>AUH</td>\n",
       "      <td>1.0</td>\n",
       "      <td>2.0</td>\n",
       "      <td>TXL</td>\n",
       "      <td>...</td>\n",
       "      <td>NaN</td>\n",
       "      <td>NaN</td>\n",
       "      <td>1ASIWS</td>\n",
       "      <td>0</td>\n",
       "      <td>0</td>\n",
       "      <td>0</td>\n",
       "      <td>d41d8cd98f00b204e9800998ecf8427e</td>\n",
       "      <td>FRA</td>\n",
       "      <td>0</td>\n",
       "      <td>0.0</td>\n",
       "    </tr>\n",
       "    <tr>\n",
       "      <th>1</th>\n",
       "      <td>2013-01-01</td>\n",
       "      <td>10:15:33</td>\n",
       "      <td>MPT</td>\n",
       "      <td>b0af35b31588dc4ab06d5cf2986e8e02</td>\n",
       "      <td>MD</td>\n",
       "      <td>ATH</td>\n",
       "      <td>MIL</td>\n",
       "      <td>0.0</td>\n",
       "      <td>1.0</td>\n",
       "      <td>ATH</td>\n",
       "      <td>...</td>\n",
       "      <td>NaN</td>\n",
       "      <td>NaN</td>\n",
       "      <td>1ASIWS</td>\n",
       "      <td>0</td>\n",
       "      <td>0</td>\n",
       "      <td>0</td>\n",
       "      <td>d41d8cd98f00b204e9800998ecf8427e</td>\n",
       "      <td>KIV</td>\n",
       "      <td>1</td>\n",
       "      <td>0.0</td>\n",
       "    </tr>\n",
       "    <tr>\n",
       "      <th>2</th>\n",
       "      <td>2013-01-01</td>\n",
       "      <td>18:04:49</td>\n",
       "      <td>MPT</td>\n",
       "      <td>3561a60621de06ab1badc8ca55699ef3</td>\n",
       "      <td>US</td>\n",
       "      <td>ICT</td>\n",
       "      <td>SFO</td>\n",
       "      <td>1.0</td>\n",
       "      <td>2.0</td>\n",
       "      <td>ICT</td>\n",
       "      <td>...</td>\n",
       "      <td>NaN</td>\n",
       "      <td>NaN</td>\n",
       "      <td>1ASIWS</td>\n",
       "      <td>0</td>\n",
       "      <td>0</td>\n",
       "      <td>0</td>\n",
       "      <td>d41d8cd98f00b204e9800998ecf8427e</td>\n",
       "      <td>NYC</td>\n",
       "      <td>2</td>\n",
       "      <td>0.0</td>\n",
       "    </tr>\n",
       "    <tr>\n",
       "      <th>3</th>\n",
       "      <td>2013-01-01</td>\n",
       "      <td>17:42:40</td>\n",
       "      <td>FXP</td>\n",
       "      <td>1864e5e8013d9414150e91d26b6a558b</td>\n",
       "      <td>SE</td>\n",
       "      <td>RNB</td>\n",
       "      <td>ARN</td>\n",
       "      <td>0.0</td>\n",
       "      <td>1.0</td>\n",
       "      <td>RNB</td>\n",
       "      <td>...</td>\n",
       "      <td>NaN</td>\n",
       "      <td>NaN</td>\n",
       "      <td>1ASI</td>\n",
       "      <td>0</td>\n",
       "      <td>0</td>\n",
       "      <td>0</td>\n",
       "      <td>d41d8cd98f00b204e9800998ecf8427e</td>\n",
       "      <td>STO</td>\n",
       "      <td>3</td>\n",
       "      <td>0.0</td>\n",
       "    </tr>\n",
       "    <tr>\n",
       "      <th>4</th>\n",
       "      <td>2013-01-01</td>\n",
       "      <td>17:48:29</td>\n",
       "      <td>MPT</td>\n",
       "      <td>1ec336348f44207d2e0027dc3a68c118</td>\n",
       "      <td>NO</td>\n",
       "      <td>OSL</td>\n",
       "      <td>MAD</td>\n",
       "      <td>1.0</td>\n",
       "      <td>2.0</td>\n",
       "      <td>OSL</td>\n",
       "      <td>...</td>\n",
       "      <td>NaN</td>\n",
       "      <td>NaN</td>\n",
       "      <td>1ASIWS</td>\n",
       "      <td>0</td>\n",
       "      <td>0</td>\n",
       "      <td>0</td>\n",
       "      <td>d41d8cd98f00b204e9800998ecf8427e</td>\n",
       "      <td>OSL</td>\n",
       "      <td>4</td>\n",
       "      <td>0.0</td>\n",
       "    </tr>\n",
       "  </tbody>\n",
       "</table>\n",
       "<p>5 rows × 47 columns</p>\n",
       "</div>"
      ],
      "text/plain": [
       "         Date      Time TxnCode                          OfficeID Country  \\\n",
       "0  2013-01-01  20:25:57     MPT  624d8c3ac0b3a7ca03e3c167e0f48327      DE   \n",
       "1  2013-01-01  10:15:33     MPT  b0af35b31588dc4ab06d5cf2986e8e02      MD   \n",
       "2  2013-01-01  18:04:49     MPT  3561a60621de06ab1badc8ca55699ef3      US   \n",
       "3  2013-01-01  17:42:40     FXP  1864e5e8013d9414150e91d26b6a558b      SE   \n",
       "4  2013-01-01  17:48:29     MPT  1ec336348f44207d2e0027dc3a68c118      NO   \n",
       "\n",
       "  Origin Destination  RoundTrip  NbSegments Seg1Departure  ...   Seg6Carrier  \\\n",
       "0    TXL         AUH        1.0         2.0           TXL  ...           NaN   \n",
       "1    ATH         MIL        0.0         1.0           ATH  ...           NaN   \n",
       "2    ICT         SFO        1.0         2.0           ICT  ...           NaN   \n",
       "3    RNB         ARN        0.0         1.0           RNB  ...           NaN   \n",
       "4    OSL         MAD        1.0         2.0           OSL  ...           NaN   \n",
       "\n",
       "  Seg6BookingCode    From IsPublishedForNeg IsFromInternet IsFromVista  \\\n",
       "0             NaN  1ASIWS                 0              0           0   \n",
       "1             NaN  1ASIWS                 0              0           0   \n",
       "2             NaN  1ASIWS                 0              0           0   \n",
       "3             NaN    1ASI                 0              0           0   \n",
       "4             NaN  1ASIWS                 0              0           0   \n",
       "\n",
       "                         TerminalID InternetOffice old_index_from_file Booked  \n",
       "0  d41d8cd98f00b204e9800998ecf8427e            FRA                   0    0.0  \n",
       "1  d41d8cd98f00b204e9800998ecf8427e            KIV                   1    0.0  \n",
       "2  d41d8cd98f00b204e9800998ecf8427e            NYC                   2    0.0  \n",
       "3  d41d8cd98f00b204e9800998ecf8427e            STO                   3    0.0  \n",
       "4  d41d8cd98f00b204e9800998ecf8427e            OSL                   4    0.0  \n",
       "\n",
       "[5 rows x 47 columns]"
      ]
     },
     "execution_count": 71,
     "metadata": {},
     "output_type": "execute_result"
    }
   ],
   "source": [
    "searchs_con_bookings = searchs.merge(booked, how='left',left_index= True, right_on='old_index_from_file')\n",
    "searchs_con_bookings.head()"
   ]
  },
  {
   "cell_type": "code",
   "execution_count": 73,
   "metadata": {},
   "outputs": [
    {
     "data": {
      "text/html": [
       "<div>\n",
       "<style scoped>\n",
       "    .dataframe tbody tr th:only-of-type {\n",
       "        vertical-align: middle;\n",
       "    }\n",
       "\n",
       "    .dataframe tbody tr th {\n",
       "        vertical-align: top;\n",
       "    }\n",
       "\n",
       "    .dataframe thead th {\n",
       "        text-align: right;\n",
       "    }\n",
       "</style>\n",
       "<table border=\"1\" class=\"dataframe\">\n",
       "  <thead>\n",
       "    <tr style=\"text-align: right;\">\n",
       "      <th></th>\n",
       "      <th>Date</th>\n",
       "      <th>Time</th>\n",
       "      <th>TxnCode</th>\n",
       "      <th>OfficeID</th>\n",
       "      <th>Country</th>\n",
       "      <th>Origin</th>\n",
       "      <th>Destination</th>\n",
       "      <th>RoundTrip</th>\n",
       "      <th>NbSegments</th>\n",
       "      <th>Seg1Departure</th>\n",
       "      <th>...</th>\n",
       "      <th>Seg6Date</th>\n",
       "      <th>Seg6Carrier</th>\n",
       "      <th>Seg6BookingCode</th>\n",
       "      <th>From</th>\n",
       "      <th>IsPublishedForNeg</th>\n",
       "      <th>IsFromInternet</th>\n",
       "      <th>IsFromVista</th>\n",
       "      <th>TerminalID</th>\n",
       "      <th>InternetOffice</th>\n",
       "      <th>Booked</th>\n",
       "    </tr>\n",
       "  </thead>\n",
       "  <tbody>\n",
       "    <tr>\n",
       "      <th>0</th>\n",
       "      <td>2013-01-01</td>\n",
       "      <td>20:25:57</td>\n",
       "      <td>MPT</td>\n",
       "      <td>624d8c3ac0b3a7ca03e3c167e0f48327</td>\n",
       "      <td>DE</td>\n",
       "      <td>TXL</td>\n",
       "      <td>AUH</td>\n",
       "      <td>1.0</td>\n",
       "      <td>2.0</td>\n",
       "      <td>TXL</td>\n",
       "      <td>...</td>\n",
       "      <td>NaN</td>\n",
       "      <td>NaN</td>\n",
       "      <td>NaN</td>\n",
       "      <td>1ASIWS</td>\n",
       "      <td>0</td>\n",
       "      <td>0</td>\n",
       "      <td>0</td>\n",
       "      <td>d41d8cd98f00b204e9800998ecf8427e</td>\n",
       "      <td>FRA</td>\n",
       "      <td>0.0</td>\n",
       "    </tr>\n",
       "    <tr>\n",
       "      <th>1</th>\n",
       "      <td>2013-01-01</td>\n",
       "      <td>10:15:33</td>\n",
       "      <td>MPT</td>\n",
       "      <td>b0af35b31588dc4ab06d5cf2986e8e02</td>\n",
       "      <td>MD</td>\n",
       "      <td>ATH</td>\n",
       "      <td>MIL</td>\n",
       "      <td>0.0</td>\n",
       "      <td>1.0</td>\n",
       "      <td>ATH</td>\n",
       "      <td>...</td>\n",
       "      <td>NaN</td>\n",
       "      <td>NaN</td>\n",
       "      <td>NaN</td>\n",
       "      <td>1ASIWS</td>\n",
       "      <td>0</td>\n",
       "      <td>0</td>\n",
       "      <td>0</td>\n",
       "      <td>d41d8cd98f00b204e9800998ecf8427e</td>\n",
       "      <td>KIV</td>\n",
       "      <td>0.0</td>\n",
       "    </tr>\n",
       "    <tr>\n",
       "      <th>2</th>\n",
       "      <td>2013-01-01</td>\n",
       "      <td>18:04:49</td>\n",
       "      <td>MPT</td>\n",
       "      <td>3561a60621de06ab1badc8ca55699ef3</td>\n",
       "      <td>US</td>\n",
       "      <td>ICT</td>\n",
       "      <td>SFO</td>\n",
       "      <td>1.0</td>\n",
       "      <td>2.0</td>\n",
       "      <td>ICT</td>\n",
       "      <td>...</td>\n",
       "      <td>NaN</td>\n",
       "      <td>NaN</td>\n",
       "      <td>NaN</td>\n",
       "      <td>1ASIWS</td>\n",
       "      <td>0</td>\n",
       "      <td>0</td>\n",
       "      <td>0</td>\n",
       "      <td>d41d8cd98f00b204e9800998ecf8427e</td>\n",
       "      <td>NYC</td>\n",
       "      <td>0.0</td>\n",
       "    </tr>\n",
       "    <tr>\n",
       "      <th>3</th>\n",
       "      <td>2013-01-01</td>\n",
       "      <td>17:42:40</td>\n",
       "      <td>FXP</td>\n",
       "      <td>1864e5e8013d9414150e91d26b6a558b</td>\n",
       "      <td>SE</td>\n",
       "      <td>RNB</td>\n",
       "      <td>ARN</td>\n",
       "      <td>0.0</td>\n",
       "      <td>1.0</td>\n",
       "      <td>RNB</td>\n",
       "      <td>...</td>\n",
       "      <td>NaN</td>\n",
       "      <td>NaN</td>\n",
       "      <td>NaN</td>\n",
       "      <td>1ASI</td>\n",
       "      <td>0</td>\n",
       "      <td>0</td>\n",
       "      <td>0</td>\n",
       "      <td>d41d8cd98f00b204e9800998ecf8427e</td>\n",
       "      <td>STO</td>\n",
       "      <td>0.0</td>\n",
       "    </tr>\n",
       "    <tr>\n",
       "      <th>4</th>\n",
       "      <td>2013-01-01</td>\n",
       "      <td>17:48:29</td>\n",
       "      <td>MPT</td>\n",
       "      <td>1ec336348f44207d2e0027dc3a68c118</td>\n",
       "      <td>NO</td>\n",
       "      <td>OSL</td>\n",
       "      <td>MAD</td>\n",
       "      <td>1.0</td>\n",
       "      <td>2.0</td>\n",
       "      <td>OSL</td>\n",
       "      <td>...</td>\n",
       "      <td>NaN</td>\n",
       "      <td>NaN</td>\n",
       "      <td>NaN</td>\n",
       "      <td>1ASIWS</td>\n",
       "      <td>0</td>\n",
       "      <td>0</td>\n",
       "      <td>0</td>\n",
       "      <td>d41d8cd98f00b204e9800998ecf8427e</td>\n",
       "      <td>OSL</td>\n",
       "      <td>0.0</td>\n",
       "    </tr>\n",
       "  </tbody>\n",
       "</table>\n",
       "<p>5 rows × 46 columns</p>\n",
       "</div>"
      ],
      "text/plain": [
       "         Date      Time TxnCode                          OfficeID Country  \\\n",
       "0  2013-01-01  20:25:57     MPT  624d8c3ac0b3a7ca03e3c167e0f48327      DE   \n",
       "1  2013-01-01  10:15:33     MPT  b0af35b31588dc4ab06d5cf2986e8e02      MD   \n",
       "2  2013-01-01  18:04:49     MPT  3561a60621de06ab1badc8ca55699ef3      US   \n",
       "3  2013-01-01  17:42:40     FXP  1864e5e8013d9414150e91d26b6a558b      SE   \n",
       "4  2013-01-01  17:48:29     MPT  1ec336348f44207d2e0027dc3a68c118      NO   \n",
       "\n",
       "  Origin Destination  RoundTrip  NbSegments Seg1Departure  ...   Seg6Date  \\\n",
       "0    TXL         AUH        1.0         2.0           TXL  ...        NaN   \n",
       "1    ATH         MIL        0.0         1.0           ATH  ...        NaN   \n",
       "2    ICT         SFO        1.0         2.0           ICT  ...        NaN   \n",
       "3    RNB         ARN        0.0         1.0           RNB  ...        NaN   \n",
       "4    OSL         MAD        1.0         2.0           OSL  ...        NaN   \n",
       "\n",
       "  Seg6Carrier Seg6BookingCode    From IsPublishedForNeg IsFromInternet  \\\n",
       "0         NaN             NaN  1ASIWS                 0              0   \n",
       "1         NaN             NaN  1ASIWS                 0              0   \n",
       "2         NaN             NaN  1ASIWS                 0              0   \n",
       "3         NaN             NaN    1ASI                 0              0   \n",
       "4         NaN             NaN  1ASIWS                 0              0   \n",
       "\n",
       "  IsFromVista                        TerminalID InternetOffice Booked  \n",
       "0           0  d41d8cd98f00b204e9800998ecf8427e            FRA    0.0  \n",
       "1           0  d41d8cd98f00b204e9800998ecf8427e            KIV    0.0  \n",
       "2           0  d41d8cd98f00b204e9800998ecf8427e            NYC    0.0  \n",
       "3           0  d41d8cd98f00b204e9800998ecf8427e            STO    0.0  \n",
       "4           0  d41d8cd98f00b204e9800998ecf8427e            OSL    0.0  \n",
       "\n",
       "[5 rows x 46 columns]"
      ]
     },
     "execution_count": 73,
     "metadata": {},
     "output_type": "execute_result"
    }
   ],
   "source": [
    "searchs_con_bookings.drop(['old_index_from_file'],axis=1, inplace=True)\n",
    "searchs_con_bookings.head()"
   ]
  },
  {
   "cell_type": "code",
   "execution_count": 76,
   "metadata": {},
   "outputs": [
    {
     "data": {
      "text/plain": [
       "count    421391.000000\n",
       "mean          0.035682\n",
       "std           0.185496\n",
       "min           0.000000\n",
       "25%           0.000000\n",
       "50%           0.000000\n",
       "75%           0.000000\n",
       "max           1.000000\n",
       "Name: Booked, dtype: float64"
      ]
     },
     "execution_count": 76,
     "metadata": {},
     "output_type": "execute_result"
    }
   ],
   "source": [
    "searchs_con_bookings['Booked'].describe()"
   ]
  },
  {
   "cell_type": "code",
   "execution_count": 74,
   "metadata": {},
   "outputs": [],
   "source": [
    "searchs_con_bookings.to_csv('search_with_bookings.csv', sep='^', index = False)"
   ]
  },
  {
   "cell_type": "code",
   "execution_count": 75,
   "metadata": {},
   "outputs": [
    {
     "name": "stdout",
     "output_type": "stream",
     "text": [
      "Date^Time^TxnCode^OfficeID^Country^Origin^Destination^RoundTrip^NbSegments^Seg1Departure^Seg1Arrival^Seg1Date^Seg1Carrier^Seg1BookingCode^Seg2Departure^Seg2Arrival^Seg2Date^Seg2Carrier^Seg2BookingCode^Seg3Departure^Seg3Arrival^Seg3Date^Seg3Carrier^Seg3BookingCode^Seg4Departure^Seg4Arrival^Seg4Date^Seg4Carrier^Seg4BookingCode^Seg5Departure^Seg5Arrival^Seg5Date^Seg5Carrier^Seg5BookingCode^Seg6Departure^Seg6Arrival^Seg6Date^Seg6Carrier^Seg6BookingCode^From^IsPublishedForNeg^IsFromInternet^IsFromVista^TerminalID^InternetOffice^Booked\r\n",
      "2013-01-01^20:25:57^MPT^624d8c3ac0b3a7ca03e3c167e0f48327^DE^TXL^AUH^1.0^2.0^TXL^AUH^2013-01-26^D2^^AUH^TXL^2013-02-02^D2^^^^^^^^^^^^^^^^^^^^^^1ASIWS^0^0^0^d41d8cd98f00b204e9800998ecf8427e^FRA^0.0\r\n",
      "2013-01-01^10:15:33^MPT^b0af35b31588dc4ab06d5cf2986e8e02^MD^ATH^MIL^0.0^1.0^ATH^MIL^2013-01-04^^^^^^^^^^^^^^^^^^^^^^^^^^^^1ASIWS^0^0^0^d41d8cd98f00b204e9800998ecf8427e^KIV^0.0\r\n",
      "2013-01-01^18:04:49^MPT^3561a60621de06ab1badc8ca55699ef3^US^ICT^SFO^1.0^2.0^ICT^SFO^2013-08-02^^^SFO^ICT^2013-08-09^^^^^^^^^^^^^^^^^^^^^^^1ASIWS^0^0^0^d41d8cd98f00b204e9800998ecf8427e^NYC^0.0\r\n",
      "2013-01-01^17:42:40^FXP^1864e5e8013d9414150e91d26b6a558b^SE^RNB^ARN^0.0^1.0^RNB^ARN^2013-01-02^DU^W^^^^^^^^^^^^^^^^^^^^^^^^^^1ASI^0^0^0^d41d8cd98f00b204e9800998ecf8427e^STO^0.0\r\n",
      "2013-01-01^17:48:29^MPT^1ec336348f44207d2e0027dc3a68c118^NO^OSL^MAD^1.0^2.0^OSL^MAD^2013-03-22^^^MAD^OSL^2013-03-31^^^^^^^^^^^^^^^^^^^^^^^1ASIWS^0^0^0^d41d8cd98f00b204e9800998ecf8427e^OSL^0.0\r\n",
      "2013-01-01^22:00:28^MPT^3561a60621de06ab1badc8ca55699ef3^US^IAH^BLR^1.0^2.0^IAH^BLR^2013-02-14^^^BLR^IAH^2013-02-23^^^^^^^^^^^^^^^^^^^^^^^1ASIWS^0^0^0^d41d8cd98f00b204e9800998ecf8427e^NYC^0.0\r\n",
      "2013-01-01^10:47:14^MPT^d327ca6e35cc6732d4709828327ac7c1^DK^CPH^PAR^1.0^2.0^CPH^PAR^2013-03-02^^^PAR^CPH^2013-03-07^^^^^^^^^^^^^^^^^^^^^^^1ASI^0^0^0^d41d8cd98f00b204e9800998ecf8427e^CPH^0.0\r\n",
      "2013-01-01^23:39:49^MPT^38a3abb0a28e3f00fa79a11f552a5052^FR^PAR^DUB^1.0^2.0^PAR^DUB^2013-02-12^^^DUB^PAR^2013-02-17^^^^^^^^^^^^^^^^^^^^^^^1ASIWS^0^0^0^d41d8cd98f00b204e9800998ecf8427e^PAR^0.0\r\n",
      "2013-01-01^17:08:46^MPT^c8daef4f8bf73a61aa2c928705f7b82d^ES^DUS^ACE^1.0^2.0^DUS^ACE^2013-03-30^^^ACE^DUS^2013-04-06^^^^^^^^^^^^^^^^^^^^^^^1ASIWS^0^0^0^d41d8cd98f00b204e9800998ecf8427e^MAD^0.0\r\n"
     ]
    }
   ],
   "source": [
    "! head search_with_bookings.csv"
   ]
  }
 ],
 "metadata": {
  "kernelspec": {
   "display_name": "Python 3",
   "language": "python",
   "name": "python3"
  },
  "language_info": {
   "codemirror_mode": {
    "name": "ipython",
    "version": 3
   },
   "file_extension": ".py",
   "mimetype": "text/x-python",
   "name": "python",
   "nbconvert_exporter": "python",
   "pygments_lexer": "ipython3",
   "version": "3.6.4"
  }
 },
 "nbformat": 4,
 "nbformat_minor": 2
}
