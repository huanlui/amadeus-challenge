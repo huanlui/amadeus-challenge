{
 "cells": [
  {
   "cell_type": "markdown",
   "metadata": {},
   "source": [
    "# Contar el número de lineas en para cada fichero\n",
    "\n"
   ]
  },
  {
   "cell_type": "markdown",
   "metadata": {},
   "source": [
    "## 1) Por línea de comandos"
   ]
  },
  {
   "cell_type": "markdown",
   "metadata": {},
   "source": [
    "### Lo normal es preparse un sample con línea de comandos"
   ]
  },
  {
   "cell_type": "code",
   "execution_count": 4,
   "metadata": {},
   "outputs": [
    {
     "name": "stdout",
     "output_type": "stream",
     "text": [
      "/home/dsc/Data/challenge\n"
     ]
    }
   ],
   "source": [
    "% cd ~/Data/challenge"
   ]
  },
  {
   "cell_type": "code",
   "execution_count": 5,
   "metadata": {},
   "outputs": [
    {
     "name": "stdout",
     "output_type": "stream",
     "text": [
      "total 1013848\r\n",
      "-rwxr-x--- 1 dsc dsc 483188920 mar 13  2018 searches.csv.bz2\r\n",
      "drwxr-x--- 2 dsc dsc      4096 mar 13  2018 .\r\n",
      "-rwxr-x--- 1 dsc dsc 554970628 mar 13  2018 bookings.csv.bz2\r\n",
      "drwxr-x--- 7 dsc dsc      4096 mar 13  2018 ..\r\n"
     ]
    }
   ],
   "source": [
    "! ls -alt"
   ]
  },
  {
   "cell_type": "markdown",
   "metadata": {},
   "source": [
    "! bzcat bookings.csv.bz2 | head -n 10000 > bookings_sample.csv\n",
    "! ! bzcat searches.csv.bz2 | head -n 10000 > searches_sample.csv "
   ]
  },
  {
   "cell_type": "markdown",
   "metadata": {},
   "source": [
    "_Nota: esto no va en jupyer notebooks"
   ]
  },
  {
   "cell_type": "code",
   "execution_count": 10,
   "metadata": {},
   "outputs": [
    {
     "name": "stdout",
     "output_type": "stream",
     "text": [
      "total 1019768\r\n",
      "-rw-r--r-- 1 dsc dsc   1824927 ene 25 17:20 searches_sample.csv\r\n",
      "drwxr-x--- 2 dsc dsc      4096 ene 25 17:20 .\r\n",
      "-rw-r--r-- 1 dsc dsc   4232732 ene 25 17:19 bookings_sample.csv\r\n",
      "-rwxr-x--- 1 dsc dsc 483188920 mar 13  2018 searches.csv.bz2\r\n",
      "-rwxr-x--- 1 dsc dsc 554970628 mar 13  2018 bookings.csv.bz2\r\n",
      "drwxr-x--- 7 dsc dsc      4096 mar 13  2018 ..\r\n"
     ]
    }
   ],
   "source": [
    "! ls -alt"
   ]
  },
  {
   "cell_type": "markdown",
   "metadata": {},
   "source": [
    "Los comprimimos en bz2 (esto también lo borra)"
   ]
  },
  {
   "cell_type": "code",
   "execution_count": 11,
   "metadata": {},
   "outputs": [],
   "source": [
    "! bzip2 bookings_sample.csv searches_sample.csv"
   ]
  },
  {
   "cell_type": "code",
   "execution_count": 13,
   "metadata": {},
   "outputs": [],
   "source": [
    "! chmod 777 bookings_sample.csv.bz2 searches_sample.csv.bz2"
   ]
  },
  {
   "cell_type": "code",
   "execution_count": 15,
   "metadata": {},
   "outputs": [
    {
     "name": "stdout",
     "output_type": "stream",
     "text": [
      "total 1014612\r\n",
      "drwxr-x--- 2 dsc dsc      4096 ene 25 17:22 .\r\n",
      "-rwxrwxrwx 1 dsc dsc    244720 ene 25 17:20 searches_sample.csv.bz2\r\n",
      "-rwxrwxrwx 1 dsc dsc    535893 ene 25 17:19 bookings_sample.csv.bz2\r\n",
      "-rwxr-x--- 1 dsc dsc 483188920 mar 13  2018 searches.csv.bz2\r\n",
      "-rwxr-x--- 1 dsc dsc 554970628 mar 13  2018 bookings.csv.bz2\r\n",
      "drwxr-x--- 7 dsc dsc      4096 mar 13  2018 ..\r\n"
     ]
    }
   ],
   "source": [
    "! ls -alt"
   ]
  },
  {
   "cell_type": "markdown",
   "metadata": {},
   "source": [
    "### Hacemos el ejercicio"
   ]
  },
  {
   "cell_type": "code",
   "execution_count": 19,
   "metadata": {},
   "outputs": [
    {
     "name": "stdout",
     "output_type": "stream",
     "text": [
      "10000\r\n"
     ]
    }
   ],
   "source": [
    "! bzcat bookings_sample.csv.bz2 | wc -l "
   ]
  },
  {
   "cell_type": "code",
   "execution_count": 20,
   "metadata": {},
   "outputs": [
    {
     "name": "stdout",
     "output_type": "stream",
     "text": [
      "10000\r\n"
     ]
    }
   ],
   "source": [
    "! bzcat searches_sample.csv.bz2 | wc -l "
   ]
  },
  {
   "cell_type": "markdown",
   "metadata": {},
   "source": [
    "## Usando python sin descomprimir"
   ]
  },
  {
   "cell_type": "markdown",
   "metadata": {},
   "source": [
    "Hay una librería estándar para hacerlo. "
   ]
  },
  {
   "cell_type": "code",
   "execution_count": 23,
   "metadata": {},
   "outputs": [],
   "source": [
    "import bz2\n",
    "\n",
    "first_file = \"bookings_sample.csv.bz2\"\n",
    "second_file = \"bookings_sample.csv.bz2\"\n",
    "\n",
    "file = bz2.BZ2File(first_file)"
   ]
  },
  {
   "cell_type": "code",
   "execution_count": 25,
   "metadata": {},
   "outputs": [
    {
     "data": {
      "text/plain": [
       "bz2.BZ2File"
      ]
     },
     "execution_count": 25,
     "metadata": {},
     "output_type": "execute_result"
    }
   ],
   "source": [
    "type(file)\n",
    "\n"
   ]
  },
  {
   "cell_type": "code",
   "execution_count": 27,
   "metadata": {},
   "outputs": [],
   "source": [
    "lines = 0\n",
    "while file.readline() :\n",
    "    lines += 1"
   ]
  },
  {
   "cell_type": "code",
   "execution_count": 28,
   "metadata": {},
   "outputs": [
    {
     "data": {
      "text/plain": [
       "10000"
      ]
     },
     "execution_count": 28,
     "metadata": {},
     "output_type": "execute_result"
    }
   ],
   "source": [
    "lines"
   ]
  },
  {
   "cell_type": "markdown",
   "metadata": {},
   "source": [
    "Para el otro:"
   ]
  },
  {
   "cell_type": "code",
   "execution_count": 29,
   "metadata": {},
   "outputs": [
    {
     "data": {
      "text/plain": [
       "10000"
      ]
     },
     "execution_count": 29,
     "metadata": {},
     "output_type": "execute_result"
    }
   ],
   "source": [
    "file2 = bz2.BZ2File(second_file)\n",
    "lines = 0\n",
    "while file2.readline() :\n",
    "    lines += 1\n",
    "lines"
   ]
  },
  {
   "cell_type": "code",
   "execution_count": 30,
   "metadata": {},
   "outputs": [],
   "source": [
    "file.close()\n",
    "file2.close()"
   ]
  },
  {
   "cell_type": "markdown",
   "metadata": {},
   "source": [
    "Lo hacemos con una función:"
   ]
  },
  {
   "cell_type": "code",
   "execution_count": 35,
   "metadata": {},
   "outputs": [],
   "source": [
    "def read_lines_compressed(path):\n",
    "    file = bz2.BZ2File(path)\n",
    "    lines = 0\n",
    "    while file.readline() :\n",
    "        lines += 1\n",
    "    file.close()\n",
    "    return lines"
   ]
  },
  {
   "cell_type": "code",
   "execution_count": 36,
   "metadata": {},
   "outputs": [
    {
     "data": {
      "text/plain": [
       "10000"
      ]
     },
     "execution_count": 36,
     "metadata": {},
     "output_type": "execute_result"
    }
   ],
   "source": [
    "read_lines(first_file)"
   ]
  },
  {
   "cell_type": "code",
   "execution_count": 37,
   "metadata": {},
   "outputs": [
    {
     "data": {
      "text/plain": [
       "10000"
      ]
     },
     "execution_count": 37,
     "metadata": {},
     "output_type": "execute_result"
    }
   ],
   "source": [
    "read_lines(second_file)"
   ]
  },
  {
   "cell_type": "markdown",
   "metadata": {},
   "source": [
    "read_lines(\"searches.csv.bz2\")\n",
    "Tarda la vida!!"
   ]
  },
  {
   "cell_type": "markdown",
   "metadata": {},
   "source": [
    "# IMPORTANTE: Alt + TAb una vez con el cursor en un nombre de función te saca info. Si haces Alt + Tab + Tab, te saca más, y si haces Alt+ Tab + Tab te casa aún más info"
   ]
  },
  {
   "cell_type": "markdown",
   "metadata": {},
   "source": [
    "_Nota_ : MA lo ha hecho con read_csv,que permite elegir el formato de compresión. Le peta para el grande. No vale"
   ]
  },
  {
   "cell_type": "markdown",
   "metadata": {},
   "source": [
    "## Usando python descomprimiendolo "
   ]
  },
  {
   "cell_type": "code",
   "execution_count": 39,
   "metadata": {},
   "outputs": [],
   "source": [
    "! bzip2 -dk bookings_sample.csv.bz2"
   ]
  },
  {
   "cell_type": "code",
   "execution_count": 40,
   "metadata": {},
   "outputs": [
    {
     "name": "stdout",
     "output_type": "stream",
     "text": [
      "total 1018748\r\n",
      "drwxr-x--- 2 dsc dsc      4096 ene 25 17:58 .\r\n",
      "-rwxrwxrwx 1 dsc dsc    244720 ene 25 17:20 searches_sample.csv.bz2\r\n",
      "-rwxrwxrwx 1 dsc dsc   4232732 ene 25 17:19 bookings_sample.csv\r\n",
      "-rwxrwxrwx 1 dsc dsc    535893 ene 25 17:19 bookings_sample.csv.bz2\r\n",
      "-rwxr-x--- 1 dsc dsc 483188920 mar 13  2018 searches.csv.bz2\r\n",
      "-rwxr-x--- 1 dsc dsc 554970628 mar 13  2018 bookings.csv.bz2\r\n",
      "drwxr-x--- 7 dsc dsc      4096 mar 13  2018 ..\r\n"
     ]
    }
   ],
   "source": [
    "! ls -alt"
   ]
  },
  {
   "cell_type": "code",
   "execution_count": 42,
   "metadata": {},
   "outputs": [],
   "source": [
    "def read_lines_uncompressed(file_name):\n",
    "    with open(file_name, \"r\") as file_input:\n",
    "        lines=0\n",
    "        for line in file_input:\n",
    "            lines += 1\n",
    "        return lines\n"
   ]
  },
  {
   "cell_type": "markdown",
   "metadata": {},
   "source": [
    "_Nota_ ESTO ES COMO EL USING DE C#!!"
   ]
  },
  {
   "cell_type": "code",
   "execution_count": 43,
   "metadata": {},
   "outputs": [
    {
     "data": {
      "text/plain": [
       "10000"
      ]
     },
     "execution_count": 43,
     "metadata": {},
     "output_type": "execute_result"
    }
   ],
   "source": [
    "read_lines_uncompressed(\"bookings_sample.csv\")"
   ]
  },
  {
   "cell_type": "code",
   "execution_count": 47,
   "metadata": {},
   "outputs": [],
   "source": [
    "def read_lines_uncompressed2(file_name):\n",
    "    with open(file_name, \"r\") as file_input:\n",
    "        for index,line in enumerate(file_input):\n",
    "            pass\n",
    "        return index +1"
   ]
  },
  {
   "cell_type": "code",
   "execution_count": 48,
   "metadata": {},
   "outputs": [
    {
     "data": {
      "text/plain": [
       "10000"
      ]
     },
     "execution_count": 48,
     "metadata": {},
     "output_type": "execute_result"
    }
   ],
   "source": [
    "read_lines_uncompressed2(\"bookings_sample.csv\")"
   ]
  },
  {
   "cell_type": "code",
   "execution_count": 51,
   "metadata": {},
   "outputs": [],
   "source": [
    "def read_lines_uncompressed3(file_name):\n",
    "    with open(file_name, \"r\") as file_input:\n",
    "        return sum ( [1 for line in file_input] )"
   ]
  },
  {
   "cell_type": "code",
   "execution_count": 52,
   "metadata": {},
   "outputs": [
    {
     "data": {
      "text/plain": [
       "10000"
      ]
     },
     "execution_count": 52,
     "metadata": {},
     "output_type": "execute_result"
    }
   ],
   "source": [
    "read_lines_uncompressed3(\"bookings_sample.csv\")"
   ]
  },
  {
   "cell_type": "code",
   "execution_count": 54,
   "metadata": {},
   "outputs": [],
   "source": [
    "def read_lines_uncompressed4(file_name):\n",
    "    try:\n",
    "        with open(file_name, \"r\") as file_input:\n",
    "            return sum ( [1 for line in file_input] )\n",
    "    except IOError:\n",
    "        return \"File could not be open\"\n",
    "    except ValueError:\n",
    "        return \"Cannot convert to integer\"\n",
    "    except:\n",
    "        return \"Unknown error\""
   ]
  },
  {
   "cell_type": "code",
   "execution_count": 55,
   "metadata": {},
   "outputs": [
    {
     "data": {
      "text/plain": [
       "10000"
      ]
     },
     "execution_count": 55,
     "metadata": {},
     "output_type": "execute_result"
    }
   ],
   "source": [
    "read_lines_uncompressed4(\"bookings_sample.csv\")"
   ]
  },
  {
   "cell_type": "code",
   "execution_count": 56,
   "metadata": {},
   "outputs": [
    {
     "data": {
      "text/plain": [
       "'File could not be open'"
      ]
     },
     "execution_count": 56,
     "metadata": {},
     "output_type": "execute_result"
    }
   ],
   "source": [
    "read_lines_uncompressed4(\"bookings_sample_NO_EXISTE.csv\")"
   ]
  }
 ],
 "metadata": {
  "kernelspec": {
   "display_name": "Python 3",
   "language": "python",
   "name": "python3"
  },
  "language_info": {
   "codemirror_mode": {
    "name": "ipython",
    "version": 3
   },
   "file_extension": ".py",
   "mimetype": "text/x-python",
   "name": "python",
   "nbconvert_exporter": "python",
   "pygments_lexer": "ipython3",
   "version": "3.6.4"
  }
 },
 "nbformat": 4,
 "nbformat_minor": 2
}
